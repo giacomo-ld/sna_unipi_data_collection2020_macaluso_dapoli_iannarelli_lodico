{
 "cells": [
  {
   "cell_type": "code",
   "execution_count": null,
   "metadata": {},
   "outputs": [],
   "source": [
    "pip install selenium"
   ]
  },
  {
   "cell_type": "code",
   "execution_count": null,
   "metadata": {},
   "outputs": [],
   "source": [
    "#Importing libraries\n",
    "from selenium import webdriver \n",
    "import pandas as pd \n",
    "from selenium.webdriver.common.keys import Keys\n",
    "import time\n",
    "import numpy as np\n",
    "from selenium.common.exceptions import NoSuchElementException, NoSuchAttributeException\n",
    "\n",
    "# creating instance for web driver\n",
    "driver = webdriver.Chrome(executable_path=r'C:\\Program Files (x86)\\Google\\Chrome\\Application\\81.0.4044.122\\default_apps\\chromedriver.exe')\n",
    "\n",
    "driver.get(\"https://soundcloud.com/search/sounds?q=covid&filter.created_at=last_month&filter.genre_or_tag=news%20%26%20politics\")\n",
    "time.sleep(10)\n",
    "\n",
    "#function for scraping\n",
    "def search():\n",
    "    df = pd.DataFrame(columns = ['trace_title', 'genre','link'])\n",
    "\n",
    "    elem = driver.find_element_by_tag_name(\"body\")\n",
    "\n",
    "    # Scrolling the page (no_of_pagedowns = number of scrolls)\n",
    "    no_of_pagedowns = 500\n",
    "    while no_of_pagedowns:\n",
    "        elem.send_keys(Keys.PAGE_DOWN)\n",
    "        time.sleep(1)\n",
    "        no_of_pagedowns-=1\n",
    " \n",
    "    #catching song title\n",
    "    trace_data_scrap = driver.find_elements_by_class_name(\"soundTitle__usernameTitleContainer\")\n",
    "\n",
    "    #catching song tag in relation to the genre of belonging\n",
    "    trace_genre_scrap = driver.find_elements_by_xpath(\"//*[@class='searchTags__tag sc-tag sc-tag-small sc-tag-selected']/span\")\n",
    "    \n",
    "    #catching song url\n",
    "    dropdown = driver.find_elements_by_css_selector(\"* > div > div > div > div.sound__content > div.sound__header > div > div > div.soundTitle__usernameTitleContainer > a\")\n",
    "    links = []\n",
    "    for i in dropdown:\n",
    "        if len(i.get_attribute(\"href\")) > 0:         \n",
    "            links.append(i.get_attribute(\"href\"))\n",
    "        else:                                          # in questo modo, se l'attributo 'href' non è stato preso per via dello scroll\n",
    "            links.append('None')                       # restituisce 'None' piuttosto\n",
    "        \n",
    "    #storing scraped data\n",
    "    trace_data = []\n",
    "    trace_genre = []\n",
    "    \n",
    "    for i in trace_data_scrap:\n",
    "        if len(i.text) > 0:\n",
    "            trace_data.append(i.text)\n",
    "        else:                                            # stesso dell'if-else precedente\n",
    "            trace_data.append('None')\n",
    "\n",
    "    for i in trace_genre_scrap:\n",
    "        if len(i.text) > 0:\n",
    "            trace_genre.append(i.text)\n",
    "        else:                                           # stesso dell'if-else precedente\n",
    "            trace_genre.append('None')\n",
    "        \n",
    "    #catching only song title\n",
    "    title = [i.split('\\n')[1] for i in trace_data]\n",
    "\n",
    "    print(len(title), len(trace_genre),len(links))\n",
    "\n",
    "    # creating a temporary dataframe\n",
    "    index_df = pd.DataFrame.from_dict({\"trace_title\": title,  \n",
    "                            \"genre\":trace_genre*len(title), \"link\":links},orient = 'index') # in questo modo, i missing values vengono considerati NaN e si evita l'Error: array must be the same length\n",
    "    temp_df = index_df.transpose()                                                          # si traspone il dataframe per avere un dataframe nx3 (gli attributi per colonna)\n",
    "    df = df.append(temp_df, ignore_index=True)\n",
    "    print('dataframe shape is ',df.shape)\n",
    "\n",
    "    return df\n",
    "    \n",
    "data_newspol = search()"
   ]
  },
  {
   "cell_type": "code",
   "execution_count": null,
   "metadata": {},
   "outputs": [],
   "source": [
    "data_newspol"
   ]
  },
  {
   "cell_type": "code",
   "execution_count": null,
   "metadata": {},
   "outputs": [],
   "source": [
    "driver.get(\"https://soundcloud.com/search/sounds?q=covid&filter.created_at=last_month&filter.genre_or_tag=hip-hop%20%26%20rap\")\n",
    "time.sleep(10)\n",
    "\n",
    "data_hiprap = search()"
   ]
  },
  {
   "cell_type": "code",
   "execution_count": null,
   "metadata": {},
   "outputs": [],
   "source": [
    "data_hiprap"
   ]
  },
  {
   "cell_type": "code",
   "execution_count": null,
   "metadata": {},
   "outputs": [],
   "source": [
    "driver.get(\"https://soundcloud.com/search/sounds?q=covid&filter.created_at=last_month&filter.genre_or_tag=business\")\n",
    "time.sleep(10)\n",
    "\n",
    "data_bus = search()"
   ]
  },
  {
   "cell_type": "code",
   "execution_count": null,
   "metadata": {},
   "outputs": [],
   "source": [
    "data_bus"
   ]
  },
  {
   "cell_type": "code",
   "execution_count": null,
   "metadata": {},
   "outputs": [],
   "source": [
    "driver.get(\"https://soundcloud.com/search/sounds?q=covid&filter.created_at=last_month&filter.genre_or_tag=entertainment\")\n",
    "time.sleep(10)\n",
    "\n",
    "data_entert = search()"
   ]
  },
  {
   "cell_type": "code",
   "execution_count": null,
   "metadata": {},
   "outputs": [],
   "source": [
    "data_entert"
   ]
  },
  {
   "cell_type": "code",
   "execution_count": null,
   "metadata": {},
   "outputs": [],
   "source": [
    "driver.get(\"https://soundcloud.com/search/sounds?q=covid&filter.created_at=last_month&filter.genre_or_tag=learning\")\n",
    "time.sleep(10)\n",
    "\n",
    "data_learn = search()"
   ]
  },
  {
   "cell_type": "code",
   "execution_count": null,
   "metadata": {},
   "outputs": [],
   "source": [
    "data_learn"
   ]
  },
  {
   "cell_type": "code",
   "execution_count": null,
   "metadata": {},
   "outputs": [],
   "source": [
    "driver.get(\"https://soundcloud.com/search/sounds?q=covid&filter.created_at=last_month&filter.genre_or_tag=religion%20%26%20spirituality\")\n",
    "time.sleep(10)\n",
    "\n",
    "data_relspir = search()"
   ]
  },
  {
   "cell_type": "code",
   "execution_count": null,
   "metadata": {},
   "outputs": [],
   "source": [
    "data_relspir"
   ]
  },
  {
   "cell_type": "code",
   "execution_count": null,
   "metadata": {},
   "outputs": [],
   "source": [
    "driver.get(\"https://soundcloud.com/search/sounds?q=covid&filter.created_at=last_month&filter.genre_or_tag=sports\")\n",
    "time.sleep(10)\n",
    "\n",
    "data_sports = search()"
   ]
  },
  {
   "cell_type": "code",
   "execution_count": null,
   "metadata": {},
   "outputs": [],
   "source": [
    "data_sports"
   ]
  },
  {
   "cell_type": "code",
   "execution_count": null,
   "metadata": {},
   "outputs": [],
   "source": [
    "driver.get(\"https://soundcloud.com/search/sounds?q=covid&filter.created_at=last_month&filter.genre_or_tag=storytelling\")\n",
    "time.sleep(10)\n",
    "\n",
    "data_story = search()"
   ]
  },
  {
   "cell_type": "code",
   "execution_count": null,
   "metadata": {},
   "outputs": [],
   "source": [
    "data_story"
   ]
  },
  {
   "cell_type": "code",
   "execution_count": null,
   "metadata": {},
   "outputs": [],
   "source": [
    "driver.get(\"https://soundcloud.com/search/sounds?q=covid&filter.created_at=last_month&filter.genre_or_tag=electronic\")\n",
    "time.sleep(10)\n",
    "\n",
    "data_elec = search()"
   ]
  },
  {
   "cell_type": "code",
   "execution_count": null,
   "metadata": {},
   "outputs": [],
   "source": [
    "data_elec"
   ]
  },
  {
   "cell_type": "code",
   "execution_count": null,
   "metadata": {},
   "outputs": [],
   "source": [
    "driver.get(\"https://soundcloud.com/search/sounds?q=covid&filter.created_at=last_month&filter.genre_or_tag=techno\")\n",
    "time.sleep(10)\n",
    "\n",
    "data_tec = search()"
   ]
  },
  {
   "cell_type": "code",
   "execution_count": null,
   "metadata": {},
   "outputs": [],
   "source": [
    "data_tec"
   ]
  },
  {
   "cell_type": "code",
   "execution_count": null,
   "metadata": {},
   "outputs": [],
   "source": [
    "df1=pd.concat([data_newspol,data_hiprap,data_bus,data_entert,data_learn,data_relspir,data_sports,data_story])"
   ]
  },
  {
   "cell_type": "code",
   "execution_count": null,
   "metadata": {},
   "outputs": [],
   "source": [
    "df1"
   ]
  },
  {
   "cell_type": "code",
   "execution_count": null,
   "metadata": {},
   "outputs": [],
   "source": [
    "df1.to_csv(r'C:\\Users\\margg\\Desktop\\vitalba\\SNA\\df1_covid.csv', index = False)"
   ]
  },
  {
   "cell_type": "code",
   "execution_count": null,
   "metadata": {},
   "outputs": [],
   "source": [
    "df2 = pd.concat([data_elec,data_tec])\n",
    "df2\n",
    "df2.to_csv(r'C:\\Users\\margg\\Desktop\\vitalba\\SNA\\df2_covid.csv', index = False)\n"
   ]
  },
  {
   "cell_type": "code",
   "execution_count": null,
   "metadata": {},
   "outputs": [],
   "source": []
  }
 ],
 "metadata": {
  "kernelspec": {
   "display_name": "Python 3",
   "language": "python",
   "name": "python3"
  },
  "language_info": {
   "codemirror_mode": {
    "name": "ipython",
    "version": 3
   },
   "file_extension": ".py",
   "mimetype": "text/x-python",
   "name": "python",
   "nbconvert_exporter": "python",
   "pygments_lexer": "ipython3",
   "version": "3.7.4"
  }
 },
 "nbformat": 4,
 "nbformat_minor": 4
}
