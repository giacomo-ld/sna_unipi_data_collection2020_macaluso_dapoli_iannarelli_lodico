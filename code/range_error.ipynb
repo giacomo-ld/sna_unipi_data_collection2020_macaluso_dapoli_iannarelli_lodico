{
 "cells": [
  {
   "cell_type": "code",
   "execution_count": null,
   "metadata": {},
   "outputs": [],
   "source": [
    "pip install selenium"
   ]
  },
  {
   "cell_type": "code",
   "execution_count": null,
   "metadata": {},
   "outputs": [],
   "source": [
    "#Importing libraries\n",
    "from selenium import webdriver \n",
    "import pandas as pd \n",
    "from selenium.webdriver.common.keys import Keys\n",
    "import time\n",
    "import numpy as np\n",
    "from selenium.common.exceptions import NoSuchElementException, NoSuchAttributeException\n",
    "\n",
    "# creating instance for web driver\n",
    "driver = webdriver.Chrome(executable_path=r'C:\\Program Files (x86)\\Google\\Chrome\\Application\\81.0.4044.122\\default_apps\\chromedriver.exe')\n",
    "\n",
    "driver.get(\"https://soundcloud.com/search/sounds?q=lockdown&filter.created_at=last_month&filter.genre_or_tag=drum%20%26%20bass\")\n",
    "time.sleep(10)\n",
    "\n",
    "def search():\n",
    "    df = pd.DataFrame(columns = ['trace_title', 'genre','link'])\n",
    "\n",
    "    elem = driver.find_element_by_tag_name(\"body\")\n",
    "\n",
    "    # Scrolling the page (no_of_pagedowns = number of scrolls)\n",
    "    no_of_pagedowns = 500\n",
    "    while no_of_pagedowns:\n",
    "        elem.send_keys(Keys.PAGE_DOWN)\n",
    "        time.sleep(1)\n",
    "        no_of_pagedowns-=1\n",
    " \n",
    "    # song title and artist name\n",
    "    trace_data_scrap = driver.find_elements_by_class_name(\"soundTitle__usernameTitleContainer\")\n",
    "\n",
    "    # song tag\n",
    "    #song_tag_scrap = driver.find_elements_by_class_name(\"soundTitle__tag sc-tag sc-tag-small\")\n",
    "    trace_genre_scrap = driver.find_elements_by_xpath(\"//*[@class='searchTags__tag sc-tag sc-tag-small sc-tag-selected']/span\")\n",
    "       \n",
    "    dropdown = driver.find_elements_by_css_selector(\"* > div > div > div > div.sound__content > div.sound__header > div > div > div.soundTitle__usernameTitleContainer > a\")\n",
    "    links = []\n",
    "    for i in dropdown:\n",
    "        if len(i.get_attribute(\"href\")) > 0:\n",
    "            links.append(i.get_attribute(\"href\"))\n",
    "        else:\n",
    "            links.append('None')\n",
    "        \n",
    "    # creating empty lists for storing scraped data\n",
    "    trace_data = []\n",
    "    trace_genre = []\n",
    "    \n",
    "    for i in trace_data_scrap:\n",
    "        if len(i.text) > 0:\n",
    "            trace_data.append(i.text)\n",
    "        else:\n",
    "            trace_data.append('None')\n",
    "\n",
    "    for i in trace_genre_scrap:\n",
    "        if len(i.text) > 0:\n",
    "            trace_genre.append(i.text)\n",
    "        else:\n",
    "            trace_genre.append('None')\n",
    "        \n",
    "    #exception for range error\n",
    "    title =[]\n",
    "    for i in trace_data:\n",
    "        if i == 'lockdown sessions vol. 1':          \n",
    "            title.append(i)                          \n",
    "        else:\n",
    "            title.append(i.split('\\n')[1])      \n",
    "\n",
    "    print(len(title), len(trace_genre),len(links))\n",
    "\n",
    "    # creating a temporary dataframe\n",
    "    index_df = pd.DataFrame.from_dict({\"trace_title\": title,  \n",
    "                            \"genre\":trace_genre*len(title), \"link\":links},orient = 'index')\n",
    "    temp_df = index_df.transpose()\n",
    "    df = df.append(temp_df, ignore_index=True)\n",
    "    print('dataframe shape is ',df.shape)\n",
    "\n",
    "    return df\n",
    "    \n",
    "data_err = search()"
   ]
  },
  {
   "cell_type": "code",
   "execution_count": null,
   "metadata": {},
   "outputs": [],
   "source": [
    "data_err"
   ]
  },
  {
   "cell_type": "code",
   "execution_count": null,
   "metadata": {},
   "outputs": [],
   "source": [
    "data_err.to_csv(r'C:\\Users\\margg\\Desktop\\vitalba\\SNA\\data_clara_err.csv', index = False)"
   ]
  }
 ],
 "metadata": {
  "kernelspec": {
   "display_name": "Python 3",
   "language": "python",
   "name": "python3"
  },
  "language_info": {
   "codemirror_mode": {
    "name": "ipython",
    "version": 3
   },
   "file_extension": ".py",
   "mimetype": "text/x-python",
   "name": "python",
   "nbconvert_exporter": "python",
   "pygments_lexer": "ipython3",
   "version": "3.7.4"
  }
 },
 "nbformat": 4,
 "nbformat_minor": 4
}
