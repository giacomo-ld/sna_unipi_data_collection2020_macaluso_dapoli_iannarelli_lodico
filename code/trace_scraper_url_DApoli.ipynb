{
 "cells": [
  {
   "cell_type": "code",
   "execution_count": null,
   "metadata": {},
   "outputs": [],
   "source": [
    "#Importing libraries\n",
    "from selenium import webdriver \n",
    "import pandas as pd \n",
    "from selenium.webdriver.common.keys import Keys\n",
    "import time\n",
    "import numpy as np\n",
    "\n",
    "# creating instance for web driver\n",
    "driver = webdriver.Chrome(executable_path=r'C:\\Program Files (x86)\\Google\\Chrome\\Application\\81.0.4044.129\\default_apps\\chromedriver.exe')\n",
    "\n",
    "driver.get(\"https://soundcloud.com/search/sounds?q=lockdown&filter.created_at=last_month&filter.genre_or_tag=hip-hop%20%26%20rap\")\n",
    "time.sleep(10)\n",
    "\n",
    "#function for scraping\n",
    "def search():\n",
    "    df = pd.DataFrame(columns = ['trace_title', 'genre', 'link'])\n",
    "\n",
    "    elem = driver.find_element_by_tag_name(\"body\")\n",
    "\n",
    "    # Scrolling the page (no_of_pagedowns = number of scrolls)\n",
    "    no_of_pagedowns = 500\n",
    "    while no_of_pagedowns:\n",
    "        elem.send_keys(Keys.PAGE_DOWN)\n",
    "        time.sleep(10)\n",
    "        no_of_pagedowns-=1\n",
    "        \n",
    "    #scraping data\n",
    "    trace_data = []\n",
    "    trace_genre = []\n",
    "    trace_urls=[]\n",
    " \n",
    "    #catching song title\n",
    "    trace_data_scrap = driver.find_elements_by_class_name(\"soundTitle__usernameTitleContainer\")\n",
    "    for i in trace_data_scrap:\n",
    "        trace_data.append(i.text)\n",
    "    title = [i.split('\\n')[1] for i in trace_data]\n",
    "\n",
    "    #catching song tag in relation to the genre of belonging\n",
    "    trace_genre_scrap = driver.find_elements_by_xpath(\"//*[@class='searchTags__tag sc-tag sc-tag-small sc-tag-selected']/span\")\n",
    "    for i in trace_genre_scrap:\n",
    "        trace_genre.append(i.text)\n",
    "    \n",
    "    #catching song url\n",
    "    dropdown = driver.find_elements_by_xpath(r'//*[@id=\"content\"]/div/div/div[3]/div/div/div/ul')\n",
    "    for i in dropdown:\n",
    "        link = i.find_elements_by_class_name(\"searchList__item\")\n",
    "        for c in link:\n",
    "            ancora = c.find_element_by_tag_name('a')\n",
    "            href=ancora.get_attribute(\"href\")\n",
    "            trace_urls.append(href)\n",
    "\n",
    "            \n",
    "    print(len(title), len(trace_genre), len(trace_urls))\n",
    "\n",
    "    \n",
    "    # creating a temporary dataframe\n",
    "    temp_df = pd.DataFrame({\"trace_title\": title,  \n",
    "                            \"genre\":trace_genre*len(title),\n",
    "                            \"link\": trace_urls}) \n",
    "    df = df.append(temp_df, ignore_index=True)\n",
    "    print('dataframe shape is ',df.shape)\n",
    "\n",
    "   \n",
    "    return df\n",
    "\n",
    "data = search()\n",
    "sort=True\n",
    "data"
   ]
  },
  {
   "cell_type": "code",
   "execution_count": null,
   "metadata": {},
   "outputs": [],
   "source": [
    "driver.get(\"https://soundcloud.com/search/sounds?q=lockdown&filter.created_at=last_month&filter.genre_or_tag=house\")\n",
    "time.sleep(10)\n",
    "\n",
    "data1 = search()"
   ]
  },
  {
   "cell_type": "code",
   "execution_count": null,
   "metadata": {},
   "outputs": [],
   "source": [
    "data1"
   ]
  },
  {
   "cell_type": "code",
   "execution_count": null,
   "metadata": {},
   "outputs": [],
   "source": [
    "driver.get(\"https://soundcloud.com/search/sounds?q=lockdown&filter.created_at=last_month&filter.genre_or_tag=electronic\")\n",
    "time.sleep(10)\n",
    "\n",
    "data3 = search()"
   ]
  },
  {
   "cell_type": "code",
   "execution_count": null,
   "metadata": {},
   "outputs": [],
   "source": [
    "data3"
   ]
  },
  {
   "cell_type": "code",
   "execution_count": null,
   "metadata": {},
   "outputs": [],
   "source": [
    "driver.get(\"https://soundcloud.com/search/sounds?q=lockdown&filter.created_at=last_month&filter.genre_or_tag=techno\")\n",
    "time.sleep(10)\n",
    "\n",
    "data4 = search()"
   ]
  },
  {
   "cell_type": "code",
   "execution_count": null,
   "metadata": {},
   "outputs": [],
   "source": [
    "data4"
   ]
  },
  {
   "cell_type": "code",
   "execution_count": null,
   "metadata": {},
   "outputs": [],
   "source": [
    "driver.get(\"https://soundcloud.com/search/sounds?q=lockdown&filter.created_at=last_month&filter.genre_or_tag=dance%20%26%20edm\")\n",
    "time.sleep(10)\n",
    "\n",
    "data5 = search()"
   ]
  },
  {
   "cell_type": "code",
   "execution_count": null,
   "metadata": {},
   "outputs": [],
   "source": [
    "data5"
   ]
  },
  {
   "cell_type": "code",
   "execution_count": null,
   "metadata": {},
   "outputs": [],
   "source": [
    "driver.get(\"https://soundcloud.com/search/sounds?q=lockdown&filter.created_at=last_month&filter.genre_or_tag=news%20%26%20politics\")\n",
    "time.sleep(10)\n",
    "\n",
    "data6 = search()"
   ]
  },
  {
   "cell_type": "code",
   "execution_count": null,
   "metadata": {},
   "outputs": [],
   "source": [
    "data6"
   ]
  },
  {
   "cell_type": "code",
   "execution_count": null,
   "metadata": {},
   "outputs": [],
   "source": [
    "driver.get(\"https://soundcloud.com/search/sounds?q=lockdown&filter.created_at=last_month&filter.genre_or_tag=entertainment\")\n",
    "time.sleep(10)\n",
    "\n",
    "data7 = search()"
   ]
  },
  {
   "cell_type": "code",
   "execution_count": null,
   "metadata": {},
   "outputs": [],
   "source": [
    "data7"
   ]
  },
  {
   "cell_type": "code",
   "execution_count": null,
   "metadata": {},
   "outputs": [],
   "source": [
    "driver.get(\"https://soundcloud.com/search/sounds?q=lockdown&filter.created_at=last_month&filter.genre_or_tag=deep%20house\")\n",
    "time.sleep(10)\n",
    "\n",
    "data8 = search()"
   ]
  },
  {
   "cell_type": "code",
   "execution_count": null,
   "metadata": {},
   "outputs": [],
   "source": [
    "data8"
   ]
  },
  {
   "cell_type": "code",
   "execution_count": null,
   "metadata": {},
   "outputs": [],
   "source": [
    "driver.get(\"https://soundcloud.com/search/sounds?q=lockdown&filter.created_at=last_month&filter.genre_or_tag=dubstep\")\n",
    "time.sleep(10)\n",
    "\n",
    "data9 = search()"
   ]
  },
  {
   "cell_type": "code",
   "execution_count": null,
   "metadata": {},
   "outputs": [],
   "source": [
    "data9"
   ]
  },
  {
   "cell_type": "code",
   "execution_count": null,
   "metadata": {},
   "outputs": [],
   "source": [
    "df=pd.concat([data,data1,data3,data4,data5,data6,data7,data8,data9,data10])"
   ]
  },
  {
   "cell_type": "code",
   "execution_count": null,
   "metadata": {},
   "outputs": [],
   "source": [
    "df"
   ]
  },
  {
   "cell_type": "code",
   "execution_count": null,
   "metadata": {},
   "outputs": [],
   "source": [
    "df.shape"
   ]
  },
  {
   "cell_type": "code",
   "execution_count": null,
   "metadata": {},
   "outputs": [],
   "source": [
    "df.to_csv(r'C:\\Users\\clara\\Desktop\\df_sound_lockdown.csv', index = False)"
   ]
  }
 ],
 "metadata": {
  "kernelspec": {
   "display_name": "Python 3",
   "language": "python",
   "name": "python3"
  },
  "language_info": {
   "codemirror_mode": {
    "name": "ipython",
    "version": 3
   },
   "file_extension": ".py",
   "mimetype": "text/x-python",
   "name": "python",
   "nbconvert_exporter": "python",
   "pygments_lexer": "ipython3",
   "version": "3.7.4"
  }
 },
 "nbformat": 4,
 "nbformat_minor": 4
}
