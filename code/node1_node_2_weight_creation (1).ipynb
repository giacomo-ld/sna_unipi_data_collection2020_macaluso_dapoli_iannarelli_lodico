{
 "cells": [
  {
   "cell_type": "code",
   "execution_count": 4,
   "metadata": {},
   "outputs": [],
   "source": [
    "iopub_data_rate_limit = 10e100"
   ]
  },
  {
   "cell_type": "code",
   "execution_count": 5,
   "metadata": {},
   "outputs": [],
   "source": [
    "#importing libraries\n",
    "import pandas as pd\n",
    "import random\n",
    "import numpy as np\n",
    "from itertools import combinations"
   ]
  },
  {
   "cell_type": "code",
   "execution_count": 38,
   "metadata": {},
   "outputs": [],
   "source": [
    "\n",
    "import csv\n",
    "with open('dati_covid.csv', encoding='utf-8') as csv_file:\n",
    "    csv_reader = csv.reader(csv_file, delimiter=',')\n",
    "    macro_list=[]\n",
    "    lista=[]\n",
    "    \n",
    "    #hashtag lists normalization\n",
    "    for row in csv_reader:\n",
    "        macro_list.append(row[2])\n",
    "    macro_list.pop(0)\n",
    "    for k in macro_list:\n",
    "        k = k.replace(\"[\",\"\")\n",
    "        k = k.replace(\"]\",\"\")\n",
    "        k = k.replace(\"'\",\"\")\n",
    "        k = k.replace(\"#\",\",\")\n",
    "        k = k.replace(\";\",\",\")\n",
    "        k = k.replace(\"\\\\\",\"\")\n",
    "        k = k.replace(\"$\",\"\\%\")\n",
    "        k = k.split(\",\")\n",
    "        k = [x for x in k if x is not '']\n",
    "        k = [x.strip().lower() for x in k]\n",
    "        k = sorted(k)\n",
    "        if len(k)<2:    #single hashtag list removing\n",
    "            del k\n",
    "        else:\n",
    "            elem = k\n",
    "            new=[c.strip() for c in elem if c.strip()]\n",
    "            comb = list(combinations(new,2))   #all possible hashtag combinations in a list\n",
    "        lista.append(comb)   #put each combination in a list"
   ]
  },
  {
   "cell_type": "code",
   "execution_count": 39,
   "metadata": {},
   "outputs": [
    {
     "data": {
      "text/plain": [
       "25303"
      ]
     },
     "execution_count": 39,
     "metadata": {},
     "output_type": "execute_result"
    }
   ],
   "source": [
    "len(lista)"
   ]
  },
  {
   "cell_type": "code",
   "execution_count": 40,
   "metadata": {},
   "outputs": [
    {
     "name": "stdout",
     "output_type": "stream",
     "text": [
      "                    nodo1             nodo2\n",
      "0                 ambient              bass\n",
      "1                 ambient         drum &amp\n",
      "2                 ambient        indie rock\n",
      "3                 ambient  psychedelic rock\n",
      "4                 ambient             screw\n",
      "...                   ...               ...\n",
      "1775907             screw         texas rap\n",
      "1775908             screw              trap\n",
      "1775909  southern hip hop         texas rap\n",
      "1775910  southern hip hop              trap\n",
      "1775911         texas rap              trap\n",
      "\n",
      "[1775912 rows x 2 columns]\n"
     ]
    }
   ],
   "source": [
    "#creating the dataframe\n",
    "nodo1 = []\n",
    "nodo2 = []\n",
    "\n",
    "for i in range(0,len(lista)):\n",
    "    for j in range(0,len(lista[i])):\n",
    "        nodo1.append(lista[i][j][0])\n",
    "        nodo2.append(lista[i][j][1])\n",
    "dataframe = pd.DataFrame({'nodo1':nodo1, 'nodo2':nodo2})\n",
    "print(dataframe)"
   ]
  },
  {
   "cell_type": "code",
   "execution_count": 41,
   "metadata": {},
   "outputs": [
    {
     "data": {
      "text/plain": [
       "array(['ambient', 'bass', 'drum &amp', ..., 'octaneamy', 'raggajungle',\n",
       "       'everythingispolitical'], dtype=object)"
      ]
     },
     "execution_count": 41,
     "metadata": {},
     "output_type": "execute_result"
    }
   ],
   "source": [
    "dataframe['nodo1'].unique()"
   ]
  },
  {
   "cell_type": "code",
   "execution_count": 42,
   "metadata": {},
   "outputs": [],
   "source": [
    "#computing weight for each pair of hashtag\n",
    "data = dataframe.groupby(['nodo1','nodo2'],as_index=False).size().reset_index(name='peso').sort_values('peso',ascending=False)"
   ]
  },
  {
   "cell_type": "code",
   "execution_count": 43,
   "metadata": {},
   "outputs": [
    {
     "data": {
      "text/html": [
       "<div>\n",
       "<style scoped>\n",
       "    .dataframe tbody tr th:only-of-type {\n",
       "        vertical-align: middle;\n",
       "    }\n",
       "\n",
       "    .dataframe tbody tr th {\n",
       "        vertical-align: top;\n",
       "    }\n",
       "\n",
       "    .dataframe thead th {\n",
       "        text-align: right;\n",
       "    }\n",
       "</style>\n",
       "<table border=\"1\" class=\"dataframe\">\n",
       "  <thead>\n",
       "    <tr style=\"text-align: right;\">\n",
       "      <th></th>\n",
       "      <th>nodo1</th>\n",
       "      <th>nodo2</th>\n",
       "      <th>peso</th>\n",
       "    </tr>\n",
       "  </thead>\n",
       "  <tbody>\n",
       "    <tr>\n",
       "      <td>279731</td>\n",
       "      <td>coronavirus</td>\n",
       "      <td>covid19</td>\n",
       "      <td>2041</td>\n",
       "    </tr>\n",
       "    <tr>\n",
       "      <td>279719</td>\n",
       "      <td>coronavirus</td>\n",
       "      <td>covid-19</td>\n",
       "      <td>1718</td>\n",
       "    </tr>\n",
       "    <tr>\n",
       "      <td>290005</td>\n",
       "      <td>coronavirus</td>\n",
       "      <td>podcast</td>\n",
       "      <td>1585</td>\n",
       "    </tr>\n",
       "    <tr>\n",
       "      <td>562753</td>\n",
       "      <td>hip hop</td>\n",
       "      <td>rap</td>\n",
       "      <td>996</td>\n",
       "    </tr>\n",
       "    <tr>\n",
       "      <td>290707</td>\n",
       "      <td>coronavirus</td>\n",
       "      <td>quarantine</td>\n",
       "      <td>950</td>\n",
       "    </tr>\n",
       "    <tr>\n",
       "      <td>...</td>\n",
       "      <td>...</td>\n",
       "      <td>...</td>\n",
       "      <td>...</td>\n",
       "    </tr>\n",
       "    <tr>\n",
       "      <td>324674</td>\n",
       "      <td>covid19</td>\n",
       "      <td>offest</td>\n",
       "      <td>1</td>\n",
       "    </tr>\n",
       "    <tr>\n",
       "      <td>324675</td>\n",
       "      <td>covid19</td>\n",
       "      <td>office</td>\n",
       "      <td>1</td>\n",
       "    </tr>\n",
       "    <tr>\n",
       "      <td>324676</td>\n",
       "      <td>covid19</td>\n",
       "      <td>officerinvolvedshooting</td>\n",
       "      <td>1</td>\n",
       "    </tr>\n",
       "    <tr>\n",
       "      <td>324677</td>\n",
       "      <td>covid19</td>\n",
       "      <td>official audio</td>\n",
       "      <td>1</td>\n",
       "    </tr>\n",
       "    <tr>\n",
       "      <td>863879</td>\n",
       "      <td>힙합</td>\n",
       "      <td>힙합랩</td>\n",
       "      <td>1</td>\n",
       "    </tr>\n",
       "  </tbody>\n",
       "</table>\n",
       "<p>863880 rows × 3 columns</p>\n",
       "</div>"
      ],
      "text/plain": [
       "              nodo1                    nodo2  peso\n",
       "279731  coronavirus                  covid19  2041\n",
       "279719  coronavirus                 covid-19  1718\n",
       "290005  coronavirus                  podcast  1585\n",
       "562753      hip hop                      rap   996\n",
       "290707  coronavirus               quarantine   950\n",
       "...             ...                      ...   ...\n",
       "324674      covid19                   offest     1\n",
       "324675      covid19                   office     1\n",
       "324676      covid19  officerinvolvedshooting     1\n",
       "324677      covid19           official audio     1\n",
       "863879           힙합                      힙합랩     1\n",
       "\n",
       "[863880 rows x 3 columns]"
      ]
     },
     "execution_count": 43,
     "metadata": {},
     "output_type": "execute_result"
    }
   ],
   "source": [
    "data"
   ]
  },
  {
   "cell_type": "code",
   "execution_count": 44,
   "metadata": {},
   "outputs": [],
   "source": [
    "#preparing data for network creation\n",
    "data = data[['nodo1','nodo2','peso']]\n",
    "data['peso'] = data['peso'].astype(float)"
   ]
  },
  {
   "cell_type": "code",
   "execution_count": 45,
   "metadata": {},
   "outputs": [
    {
     "data": {
      "text/html": [
       "<div>\n",
       "<style scoped>\n",
       "    .dataframe tbody tr th:only-of-type {\n",
       "        vertical-align: middle;\n",
       "    }\n",
       "\n",
       "    .dataframe tbody tr th {\n",
       "        vertical-align: top;\n",
       "    }\n",
       "\n",
       "    .dataframe thead th {\n",
       "        text-align: right;\n",
       "    }\n",
       "</style>\n",
       "<table border=\"1\" class=\"dataframe\">\n",
       "  <thead>\n",
       "    <tr style=\"text-align: right;\">\n",
       "      <th></th>\n",
       "      <th>#nodo1</th>\n",
       "      <th>#nodo2</th>\n",
       "      <th>#peso</th>\n",
       "    </tr>\n",
       "  </thead>\n",
       "  <tbody>\n",
       "    <tr>\n",
       "      <td>279731</td>\n",
       "      <td>coronavirus</td>\n",
       "      <td>covid19</td>\n",
       "      <td>2041.0</td>\n",
       "    </tr>\n",
       "    <tr>\n",
       "      <td>279719</td>\n",
       "      <td>coronavirus</td>\n",
       "      <td>covid-19</td>\n",
       "      <td>1718.0</td>\n",
       "    </tr>\n",
       "    <tr>\n",
       "      <td>290005</td>\n",
       "      <td>coronavirus</td>\n",
       "      <td>podcast</td>\n",
       "      <td>1585.0</td>\n",
       "    </tr>\n",
       "    <tr>\n",
       "      <td>562753</td>\n",
       "      <td>hip hop</td>\n",
       "      <td>rap</td>\n",
       "      <td>996.0</td>\n",
       "    </tr>\n",
       "    <tr>\n",
       "      <td>290707</td>\n",
       "      <td>coronavirus</td>\n",
       "      <td>quarantine</td>\n",
       "      <td>950.0</td>\n",
       "    </tr>\n",
       "    <tr>\n",
       "      <td>...</td>\n",
       "      <td>...</td>\n",
       "      <td>...</td>\n",
       "      <td>...</td>\n",
       "    </tr>\n",
       "    <tr>\n",
       "      <td>324674</td>\n",
       "      <td>covid19</td>\n",
       "      <td>offest</td>\n",
       "      <td>1.0</td>\n",
       "    </tr>\n",
       "    <tr>\n",
       "      <td>324675</td>\n",
       "      <td>covid19</td>\n",
       "      <td>office</td>\n",
       "      <td>1.0</td>\n",
       "    </tr>\n",
       "    <tr>\n",
       "      <td>324676</td>\n",
       "      <td>covid19</td>\n",
       "      <td>officerinvolvedshooting</td>\n",
       "      <td>1.0</td>\n",
       "    </tr>\n",
       "    <tr>\n",
       "      <td>324677</td>\n",
       "      <td>covid19</td>\n",
       "      <td>official audio</td>\n",
       "      <td>1.0</td>\n",
       "    </tr>\n",
       "    <tr>\n",
       "      <td>863879</td>\n",
       "      <td>힙합</td>\n",
       "      <td>힙합랩</td>\n",
       "      <td>1.0</td>\n",
       "    </tr>\n",
       "  </tbody>\n",
       "</table>\n",
       "<p>863880 rows × 3 columns</p>\n",
       "</div>"
      ],
      "text/plain": [
       "             #nodo1                   #nodo2   #peso\n",
       "279731  coronavirus                  covid19  2041.0\n",
       "279719  coronavirus                 covid-19  1718.0\n",
       "290005  coronavirus                  podcast  1585.0\n",
       "562753      hip hop                      rap   996.0\n",
       "290707  coronavirus               quarantine   950.0\n",
       "...             ...                      ...     ...\n",
       "324674      covid19                   offest     1.0\n",
       "324675      covid19                   office     1.0\n",
       "324676      covid19  officerinvolvedshooting     1.0\n",
       "324677      covid19           official audio     1.0\n",
       "863879           힙합                      힙합랩     1.0\n",
       "\n",
       "[863880 rows x 3 columns]"
      ]
     },
     "execution_count": 45,
     "metadata": {},
     "output_type": "execute_result"
    }
   ],
   "source": [
    "data = data.rename(columns={\"nodo1\": \"#nodo1\", \"nodo2\": \"#nodo2\",\"peso\":\"#peso\"})\n",
    "data"
   ]
  },
  {
   "cell_type": "code",
   "execution_count": 46,
   "metadata": {},
   "outputs": [
    {
     "data": {
      "text/plain": [
       "0"
      ]
     },
     "execution_count": 46,
     "metadata": {},
     "output_type": "execute_result"
    }
   ],
   "source": [
    "data['#peso'].isnull().sum()"
   ]
  },
  {
   "cell_type": "code",
   "execution_count": 15,
   "metadata": {},
   "outputs": [],
   "source": [
    "data.to_csv('final.csv',index=False) #final csv creation"
   ]
  }
 ],
 "metadata": {
  "kernelspec": {
   "display_name": "Python 3",
   "language": "python",
   "name": "python3"
  },
  "language_info": {
   "codemirror_mode": {
    "name": "ipython",
    "version": 3
   },
   "file_extension": ".py",
   "mimetype": "text/x-python",
   "name": "python",
   "nbconvert_exporter": "python",
   "pygments_lexer": "ipython3",
   "version": "3.7.4"
  }
 },
 "nbformat": 4,
 "nbformat_minor": 4
}
