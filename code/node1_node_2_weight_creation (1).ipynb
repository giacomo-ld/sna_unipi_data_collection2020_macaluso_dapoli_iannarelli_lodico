{
 "cells": [
  {
   "cell_type": "code",
   "execution_count": 19,
   "metadata": {},
   "outputs": [],
   "source": [
    "iopub_data_rate_limit = 10e100"
   ]
  },
  {
   "cell_type": "code",
   "execution_count": 20,
   "metadata": {},
   "outputs": [],
   "source": [
    "#importing libraries\n",
    "import pandas as pd\n",
    "import random\n",
    "import numpy as np\n",
    "from itertools import combinations"
   ]
  },
  {
   "cell_type": "code",
   "execution_count": 21,
   "metadata": {},
   "outputs": [],
   "source": [
    "import csv\n",
    "with open(\"hash_covid_tot.csv\", encoding='utf-8') as csv_file:\n",
    "    csv_reader = csv.reader(csv_file, delimiter=',')\n",
    "    macro_list=[]\n",
    "    lista=[]\n",
    "    \n",
    "    #hashtag lists normalization\n",
    "    for row in csv_reader:\n",
    "        macro_list.append(row[2])\n",
    "    macro_list.pop(0)\n",
    "    for k in macro_list:\n",
    "        k = k.replace(\"[\",\"\")\n",
    "        k = k.replace(\"]\",\"\")\n",
    "        k = k.replace(\"'\",\"\")\n",
    "        k = k.replace(\"\\\\\",\"\")\n",
    "        k = k.replace(\"$\",\"\\%\")\n",
    "        k = k.split(\",\")\n",
    "        k = [x for x in k if x is not '']\n",
    "        k = sorted(k)\n",
    "        if len(k)<2:    #single hashtag list removing\n",
    "            del k\n",
    "        else:\n",
    "            elem = k\n",
    "            new=[c.strip() for c in elem if c.strip()]\n",
    "            comb = list(combinations(new,2))   #all possible hashtag combinations in a list\n",
    "        lista.append(comb)   #put each combination in a list"
   ]
  },
  {
   "cell_type": "code",
   "execution_count": 22,
   "metadata": {},
   "outputs": [
    {
     "data": {
      "text/plain": [
       "15009"
      ]
     },
     "execution_count": 22,
     "metadata": {},
     "output_type": "execute_result"
    }
   ],
   "source": [
    "len(lista)"
   ]
  },
  {
   "cell_type": "code",
   "execution_count": 23,
   "metadata": {},
   "outputs": [
    {
     "name": "stdout",
     "output_type": "stream",
     "text": [
      "                nodo1                    nodo2\n",
      "0        coronacrisis              coronavirus\n",
      "1        coronacrisis  de wereld van personeel\n",
      "2        coronacrisis           esther mallant\n",
      "3        coronacrisis                 lockdown\n",
      "4        coronacrisis               medewerker\n",
      "...               ...                      ...\n",
      "1200570        Techno                Godsendus\n",
      "1200571         Verse                Godsendus\n",
      "1200572      classics                   techno\n",
      "1200573      classics                    house\n",
      "1200574        techno                    house\n",
      "\n",
      "[1200575 rows x 2 columns]\n"
     ]
    }
   ],
   "source": [
    "#creating the dataframe\n",
    "nodo1 = []\n",
    "nodo2 = []\n",
    "\n",
    "for i in range(0,len(lista)):\n",
    "    for j in range(0,len(lista[i])):\n",
    "        nodo1.append(lista[i][j][0])\n",
    "        nodo2.append(lista[i][j][1])\n",
    "dataframe = pd.DataFrame({'nodo1':nodo1, 'nodo2':nodo2})\n",
    "print(dataframe)"
   ]
  },
  {
   "cell_type": "code",
   "execution_count": 24,
   "metadata": {},
   "outputs": [
    {
     "data": {
      "text/plain": [
       "array(['coronacrisis', 'coronavirus', 'de wereld van personeel', ...,\n",
       "       'Steady Rock', 'Krushak', 'Verse'], dtype=object)"
      ]
     },
     "execution_count": 24,
     "metadata": {},
     "output_type": "execute_result"
    }
   ],
   "source": [
    "dataframe['nodo1'].unique()"
   ]
  },
  {
   "cell_type": "code",
   "execution_count": 25,
   "metadata": {},
   "outputs": [],
   "source": [
    "#computing weight for each pair of hashtag\n",
    "data = dataframe.groupby(['nodo1','nodo2'],as_index=False).size().reset_index(name='peso').sort_values('peso',ascending=False)"
   ]
  },
  {
   "cell_type": "code",
   "execution_count": 26,
   "metadata": {},
   "outputs": [
    {
     "data": {
      "text/html": [
       "<div>\n",
       "<style scoped>\n",
       "    .dataframe tbody tr th:only-of-type {\n",
       "        vertical-align: middle;\n",
       "    }\n",
       "\n",
       "    .dataframe tbody tr th {\n",
       "        vertical-align: top;\n",
       "    }\n",
       "\n",
       "    .dataframe thead th {\n",
       "        text-align: right;\n",
       "    }\n",
       "</style>\n",
       "<table border=\"1\" class=\"dataframe\">\n",
       "  <thead>\n",
       "    <tr style=\"text-align: right;\">\n",
       "      <th></th>\n",
       "      <th>nodo1</th>\n",
       "      <th>nodo2</th>\n",
       "      <th>peso</th>\n",
       "    </tr>\n",
       "  </thead>\n",
       "  <tbody>\n",
       "    <tr>\n",
       "      <td>389659</td>\n",
       "      <td>coronavirus</td>\n",
       "      <td>covid19</td>\n",
       "      <td>1066</td>\n",
       "    </tr>\n",
       "    <tr>\n",
       "      <td>389657</td>\n",
       "      <td>coronavirus</td>\n",
       "      <td>covid-19</td>\n",
       "      <td>694</td>\n",
       "    </tr>\n",
       "    <tr>\n",
       "      <td>395205</td>\n",
       "      <td>coronavirus</td>\n",
       "      <td>podcast</td>\n",
       "      <td>587</td>\n",
       "    </tr>\n",
       "    <tr>\n",
       "      <td>395627</td>\n",
       "      <td>coronavirus</td>\n",
       "      <td>quarantine</td>\n",
       "      <td>469</td>\n",
       "    </tr>\n",
       "    <tr>\n",
       "      <td>384810</td>\n",
       "      <td>corona</td>\n",
       "      <td>coronavirus</td>\n",
       "      <td>422</td>\n",
       "    </tr>\n",
       "    <tr>\n",
       "      <td>...</td>\n",
       "      <td>...</td>\n",
       "      <td>...</td>\n",
       "      <td>...</td>\n",
       "    </tr>\n",
       "    <tr>\n",
       "      <td>232764</td>\n",
       "      <td>Nerd</td>\n",
       "      <td>Pandemia</td>\n",
       "      <td>1</td>\n",
       "    </tr>\n",
       "    <tr>\n",
       "      <td>232763</td>\n",
       "      <td>Nerd</td>\n",
       "      <td>O Que é o Monomito</td>\n",
       "      <td>1</td>\n",
       "    </tr>\n",
       "    <tr>\n",
       "      <td>232762</td>\n",
       "      <td>Nerd</td>\n",
       "      <td>O Que é a Jornada do Herói</td>\n",
       "      <td>1</td>\n",
       "    </tr>\n",
       "    <tr>\n",
       "      <td>232761</td>\n",
       "      <td>Nerd</td>\n",
       "      <td>New</td>\n",
       "      <td>1</td>\n",
       "    </tr>\n",
       "    <tr>\n",
       "      <td>312753</td>\n",
       "      <td>angel card reading</td>\n",
       "      <td>religious freedom</td>\n",
       "      <td>1</td>\n",
       "    </tr>\n",
       "  </tbody>\n",
       "</table>\n",
       "<p>625506 rows × 3 columns</p>\n",
       "</div>"
      ],
      "text/plain": [
       "                     nodo1                       nodo2  peso\n",
       "389659         coronavirus                     covid19  1066\n",
       "389657         coronavirus                    covid-19   694\n",
       "395205         coronavirus                     podcast   587\n",
       "395627         coronavirus                  quarantine   469\n",
       "384810              corona                 coronavirus   422\n",
       "...                    ...                         ...   ...\n",
       "232764                Nerd                    Pandemia     1\n",
       "232763                Nerd          O Que é o Monomito     1\n",
       "232762                Nerd  O Que é a Jornada do Herói     1\n",
       "232761                Nerd                         New     1\n",
       "312753  angel card reading           religious freedom     1\n",
       "\n",
       "[625506 rows x 3 columns]"
      ]
     },
     "execution_count": 26,
     "metadata": {},
     "output_type": "execute_result"
    }
   ],
   "source": [
    "data"
   ]
  },
  {
   "cell_type": "code",
   "execution_count": 27,
   "metadata": {},
   "outputs": [],
   "source": [
    "#preparing data for network creation\n",
    "data = data[['nodo1','nodo2','peso']]\n",
    "data['peso'] = data['peso'].astype(float)"
   ]
  },
  {
   "cell_type": "code",
   "execution_count": 28,
   "metadata": {},
   "outputs": [
    {
     "data": {
      "text/html": [
       "<div>\n",
       "<style scoped>\n",
       "    .dataframe tbody tr th:only-of-type {\n",
       "        vertical-align: middle;\n",
       "    }\n",
       "\n",
       "    .dataframe tbody tr th {\n",
       "        vertical-align: top;\n",
       "    }\n",
       "\n",
       "    .dataframe thead th {\n",
       "        text-align: right;\n",
       "    }\n",
       "</style>\n",
       "<table border=\"1\" class=\"dataframe\">\n",
       "  <thead>\n",
       "    <tr style=\"text-align: right;\">\n",
       "      <th></th>\n",
       "      <th>#nodo1</th>\n",
       "      <th>#nodo2</th>\n",
       "      <th>#peso</th>\n",
       "    </tr>\n",
       "  </thead>\n",
       "  <tbody>\n",
       "    <tr>\n",
       "      <td>389659</td>\n",
       "      <td>coronavirus</td>\n",
       "      <td>covid19</td>\n",
       "      <td>1066.0</td>\n",
       "    </tr>\n",
       "    <tr>\n",
       "      <td>389657</td>\n",
       "      <td>coronavirus</td>\n",
       "      <td>covid-19</td>\n",
       "      <td>694.0</td>\n",
       "    </tr>\n",
       "    <tr>\n",
       "      <td>395205</td>\n",
       "      <td>coronavirus</td>\n",
       "      <td>podcast</td>\n",
       "      <td>587.0</td>\n",
       "    </tr>\n",
       "    <tr>\n",
       "      <td>395627</td>\n",
       "      <td>coronavirus</td>\n",
       "      <td>quarantine</td>\n",
       "      <td>469.0</td>\n",
       "    </tr>\n",
       "    <tr>\n",
       "      <td>384810</td>\n",
       "      <td>corona</td>\n",
       "      <td>coronavirus</td>\n",
       "      <td>422.0</td>\n",
       "    </tr>\n",
       "    <tr>\n",
       "      <td>...</td>\n",
       "      <td>...</td>\n",
       "      <td>...</td>\n",
       "      <td>...</td>\n",
       "    </tr>\n",
       "    <tr>\n",
       "      <td>232764</td>\n",
       "      <td>Nerd</td>\n",
       "      <td>Pandemia</td>\n",
       "      <td>1.0</td>\n",
       "    </tr>\n",
       "    <tr>\n",
       "      <td>232763</td>\n",
       "      <td>Nerd</td>\n",
       "      <td>O Que é o Monomito</td>\n",
       "      <td>1.0</td>\n",
       "    </tr>\n",
       "    <tr>\n",
       "      <td>232762</td>\n",
       "      <td>Nerd</td>\n",
       "      <td>O Que é a Jornada do Herói</td>\n",
       "      <td>1.0</td>\n",
       "    </tr>\n",
       "    <tr>\n",
       "      <td>232761</td>\n",
       "      <td>Nerd</td>\n",
       "      <td>New</td>\n",
       "      <td>1.0</td>\n",
       "    </tr>\n",
       "    <tr>\n",
       "      <td>312753</td>\n",
       "      <td>angel card reading</td>\n",
       "      <td>religious freedom</td>\n",
       "      <td>1.0</td>\n",
       "    </tr>\n",
       "  </tbody>\n",
       "</table>\n",
       "<p>625506 rows × 3 columns</p>\n",
       "</div>"
      ],
      "text/plain": [
       "                    #nodo1                      #nodo2   #peso\n",
       "389659         coronavirus                     covid19  1066.0\n",
       "389657         coronavirus                    covid-19   694.0\n",
       "395205         coronavirus                     podcast   587.0\n",
       "395627         coronavirus                  quarantine   469.0\n",
       "384810              corona                 coronavirus   422.0\n",
       "...                    ...                         ...     ...\n",
       "232764                Nerd                    Pandemia     1.0\n",
       "232763                Nerd          O Que é o Monomito     1.0\n",
       "232762                Nerd  O Que é a Jornada do Herói     1.0\n",
       "232761                Nerd                         New     1.0\n",
       "312753  angel card reading           religious freedom     1.0\n",
       "\n",
       "[625506 rows x 3 columns]"
      ]
     },
     "execution_count": 28,
     "metadata": {},
     "output_type": "execute_result"
    }
   ],
   "source": [
    "data = data.rename(columns={\"nodo1\": \"#nodo1\", \"nodo2\": \"#nodo2\",\"peso\":\"#peso\"})\n",
    "data"
   ]
  },
  {
   "cell_type": "code",
   "execution_count": 30,
   "metadata": {},
   "outputs": [
    {
     "data": {
      "text/plain": [
       "0"
      ]
     },
     "execution_count": 30,
     "metadata": {},
     "output_type": "execute_result"
    }
   ],
   "source": [
    "data['#peso'].isnull().sum()"
   ]
  },
  {
   "cell_type": "code",
   "execution_count": 31,
   "metadata": {},
   "outputs": [
    {
     "data": {
      "text/html": [
       "<div>\n",
       "<style scoped>\n",
       "    .dataframe tbody tr th:only-of-type {\n",
       "        vertical-align: middle;\n",
       "    }\n",
       "\n",
       "    .dataframe tbody tr th {\n",
       "        vertical-align: top;\n",
       "    }\n",
       "\n",
       "    .dataframe thead th {\n",
       "        text-align: right;\n",
       "    }\n",
       "</style>\n",
       "<table border=\"1\" class=\"dataframe\">\n",
       "  <thead>\n",
       "    <tr style=\"text-align: right;\">\n",
       "      <th></th>\n",
       "      <th>#nodo1</th>\n",
       "      <th>#nodo2</th>\n",
       "      <th>#peso</th>\n",
       "    </tr>\n",
       "  </thead>\n",
       "  <tbody>\n",
       "    <tr>\n",
       "      <td>178417</td>\n",
       "      <td>Hip Hop</td>\n",
       "      <td>rap</td>\n",
       "      <td>218.0</td>\n",
       "    </tr>\n",
       "    <tr>\n",
       "      <td>387454</td>\n",
       "      <td>corona</td>\n",
       "      <td>virus</td>\n",
       "      <td>193.0</td>\n",
       "    </tr>\n",
       "    <tr>\n",
       "      <td>372457</td>\n",
       "      <td>coach</td>\n",
       "      <td>coaching</td>\n",
       "      <td>187.0</td>\n",
       "    </tr>\n",
       "    <tr>\n",
       "      <td>372749</td>\n",
       "      <td>coaching</td>\n",
       "      <td>mentor</td>\n",
       "      <td>184.0</td>\n",
       "    </tr>\n",
       "    <tr>\n",
       "      <td>372542</td>\n",
       "      <td>coach</td>\n",
       "      <td>mentor</td>\n",
       "      <td>183.0</td>\n",
       "    </tr>\n",
       "    <tr>\n",
       "      <td>...</td>\n",
       "      <td>...</td>\n",
       "      <td>...</td>\n",
       "      <td>...</td>\n",
       "    </tr>\n",
       "    <tr>\n",
       "      <td>232764</td>\n",
       "      <td>Nerd</td>\n",
       "      <td>Pandemia</td>\n",
       "      <td>1.0</td>\n",
       "    </tr>\n",
       "    <tr>\n",
       "      <td>232763</td>\n",
       "      <td>Nerd</td>\n",
       "      <td>O Que é o Monomito</td>\n",
       "      <td>1.0</td>\n",
       "    </tr>\n",
       "    <tr>\n",
       "      <td>232762</td>\n",
       "      <td>Nerd</td>\n",
       "      <td>O Que é a Jornada do Herói</td>\n",
       "      <td>1.0</td>\n",
       "    </tr>\n",
       "    <tr>\n",
       "      <td>232761</td>\n",
       "      <td>Nerd</td>\n",
       "      <td>New</td>\n",
       "      <td>1.0</td>\n",
       "    </tr>\n",
       "    <tr>\n",
       "      <td>312753</td>\n",
       "      <td>angel card reading</td>\n",
       "      <td>religious freedom</td>\n",
       "      <td>1.0</td>\n",
       "    </tr>\n",
       "  </tbody>\n",
       "</table>\n",
       "<p>559760 rows × 3 columns</p>\n",
       "</div>"
      ],
      "text/plain": [
       "                    #nodo1                      #nodo2  #peso\n",
       "178417             Hip Hop                         rap  218.0\n",
       "387454              corona                       virus  193.0\n",
       "372457               coach                    coaching  187.0\n",
       "372749            coaching                      mentor  184.0\n",
       "372542               coach                      mentor  183.0\n",
       "...                    ...                         ...    ...\n",
       "232764                Nerd                    Pandemia    1.0\n",
       "232763                Nerd          O Que é o Monomito    1.0\n",
       "232762                Nerd  O Que é a Jornada do Herói    1.0\n",
       "232761                Nerd                         New    1.0\n",
       "312753  angel card reading           religious freedom    1.0\n",
       "\n",
       "[559760 rows x 3 columns]"
      ]
     },
     "execution_count": 31,
     "metadata": {},
     "output_type": "execute_result"
    }
   ],
   "source": [
    "#removing search hashtag\n",
    "str_to_drop = ['coronavirus', 'covid', 'Coronavirus', 'CORONAVIRUS','COVID','Covid']\n",
    "dropped_nodo1 = data[~data['#nodo1'].str.contains('|'.join(str_to_drop))]\n",
    "dropped_nodo2 = dropped_nodo1[~dropped_nodo1['#nodo2'].str.contains('|'.join(str_to_drop))]\n",
    "dropped_nodo2"
   ]
  },
  {
   "cell_type": "code",
   "execution_count": 32,
   "metadata": {},
   "outputs": [],
   "source": [
    "data.to_csv(r\"C:\\Users\\clara\\Desktop\\NUOVOSNA\\real_net.csv\",index=False) #final csv creation"
   ]
  },
  {
   "cell_type": "code",
   "execution_count": null,
   "metadata": {},
   "outputs": [],
   "source": []
  },
  {
   "cell_type": "code",
   "execution_count": null,
   "metadata": {},
   "outputs": [],
   "source": []
  }
 ],
 "metadata": {
  "kernelspec": {
   "display_name": "Python 3",
   "language": "python",
   "name": "python3"
  },
  "language_info": {
   "codemirror_mode": {
    "name": "ipython",
    "version": 3
   },
   "file_extension": ".py",
   "mimetype": "text/x-python",
   "name": "python",
   "nbconvert_exporter": "python",
   "pygments_lexer": "ipython3",
   "version": "3.7.4"
  }
 },
 "nbformat": 4,
 "nbformat_minor": 4
}
