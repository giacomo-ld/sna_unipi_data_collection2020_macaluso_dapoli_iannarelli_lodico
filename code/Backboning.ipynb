{
 "cells": [
  {
   "cell_type": "code",
   "execution_count": null,
   "metadata": {
    "colab": {},
    "colab_type": "code",
    "id": "JXmUuTfHDXS7",
    "outputId": "1a217b63-fc74-4c2f-c0b7-7b62e831c71a"
   },
   "outputs": [],
   "source": [
    "import os\n",
    "import sys\n",
    "sys.path.insert(0, os.path.abspath('backboning.py'))\n",
    "sys.path.insert(0, os.path.abspath('poisson_backboning.py'))"
   ]
  },
  {
   "cell_type": "code",
   "execution_count": 0,
   "metadata": {
    "colab": {},
    "colab_type": "code",
    "id": "uvF-wCDnDXTC"
   },
   "outputs": [],
   "source": [
    "import pandas as pd\n",
    "import random\n",
    "import numpy as np\n",
    "from itertools import combinations\n",
    "import networkx as nx\n",
    "import matplotlib.pyplot as plt\n",
    "import backboning\n",
    "import poisson_backboning"
   ]
  },
  {
   "cell_type": "code",
   "execution_count": 0,
   "metadata": {
    "colab": {},
    "colab_type": "code",
    "id": "Tj-jNthIDXTF"
   },
   "outputs": [],
   "source": [
    "data = pd.read_csv('real_net.csv')"
   ]
  },
  {
   "cell_type": "code",
   "execution_count": 0,
   "metadata": {
    "colab": {},
    "colab_type": "code",
    "id": "_2oiUFVkDXTI",
    "outputId": "53f34be7-52df-43df-8cec-988dfd73651e"
   },
   "outputs": [
    {
     "data": {
      "text/html": [
       "<div>\n",
       "<style scoped>\n",
       "    .dataframe tbody tr th:only-of-type {\n",
       "        vertical-align: middle;\n",
       "    }\n",
       "\n",
       "    .dataframe tbody tr th {\n",
       "        vertical-align: top;\n",
       "    }\n",
       "\n",
       "    .dataframe thead th {\n",
       "        text-align: right;\n",
       "    }\n",
       "</style>\n",
       "<table border=\"1\" class=\"dataframe\">\n",
       "  <thead>\n",
       "    <tr style=\"text-align: right;\">\n",
       "      <th></th>\n",
       "      <th>#nodo1</th>\n",
       "      <th>#nodo2</th>\n",
       "      <th>#peso</th>\n",
       "    </tr>\n",
       "  </thead>\n",
       "  <tbody>\n",
       "    <tr>\n",
       "      <th>0</th>\n",
       "      <td>coronavirus</td>\n",
       "      <td>covid19</td>\n",
       "      <td>1217.0</td>\n",
       "    </tr>\n",
       "    <tr>\n",
       "      <th>1</th>\n",
       "      <td>coronavirus</td>\n",
       "      <td>covid-19</td>\n",
       "      <td>790.0</td>\n",
       "    </tr>\n",
       "    <tr>\n",
       "      <th>2</th>\n",
       "      <td>coronavirus</td>\n",
       "      <td>podcast</td>\n",
       "      <td>688.0</td>\n",
       "    </tr>\n",
       "    <tr>\n",
       "      <th>3</th>\n",
       "      <td>coronavirus</td>\n",
       "      <td>quarantine</td>\n",
       "      <td>536.0</td>\n",
       "    </tr>\n",
       "    <tr>\n",
       "      <th>4</th>\n",
       "      <td>covid19</td>\n",
       "      <td>podcast</td>\n",
       "      <td>440.0</td>\n",
       "    </tr>\n",
       "    <tr>\n",
       "      <th>...</th>\n",
       "      <td>...</td>\n",
       "      <td>...</td>\n",
       "      <td>...</td>\n",
       "    </tr>\n",
       "    <tr>\n",
       "      <th>952923</th>\n",
       "      <td>Membership</td>\n",
       "      <td>Montgomery County</td>\n",
       "      <td>1.0</td>\n",
       "    </tr>\n",
       "    <tr>\n",
       "      <th>952924</th>\n",
       "      <td>Membership</td>\n",
       "      <td>Small Business</td>\n",
       "      <td>1.0</td>\n",
       "    </tr>\n",
       "    <tr>\n",
       "      <th>952925</th>\n",
       "      <td>Membership</td>\n",
       "      <td>Terri Sewell</td>\n",
       "      <td>1.0</td>\n",
       "    </tr>\n",
       "    <tr>\n",
       "      <th>952926</th>\n",
       "      <td>Meme</td>\n",
       "      <td>Money</td>\n",
       "      <td>1.0</td>\n",
       "    </tr>\n",
       "    <tr>\n",
       "      <th>952927</th>\n",
       "      <td>Vocal</td>\n",
       "      <td>pandemic</td>\n",
       "      <td>1.0</td>\n",
       "    </tr>\n",
       "  </tbody>\n",
       "</table>\n",
       "<p>952928 rows × 3 columns</p>\n",
       "</div>"
      ],
      "text/plain": [
       "             #nodo1             #nodo2   #peso\n",
       "0       coronavirus            covid19  1217.0\n",
       "1       coronavirus           covid-19   790.0\n",
       "2       coronavirus            podcast   688.0\n",
       "3       coronavirus         quarantine   536.0\n",
       "4           covid19            podcast   440.0\n",
       "...             ...                ...     ...\n",
       "952923   Membership  Montgomery County     1.0\n",
       "952924   Membership     Small Business     1.0\n",
       "952925   Membership       Terri Sewell     1.0\n",
       "952926         Meme              Money     1.0\n",
       "952927        Vocal           pandemic     1.0\n",
       "\n",
       "[952928 rows x 3 columns]"
      ]
     },
     "execution_count": 9,
     "metadata": {
      "tags": []
     },
     "output_type": "execute_result"
    }
   ],
   "source": [
    "data"
   ]
  },
  {
   "cell_type": "markdown",
   "metadata": {
    "colab_type": "text",
    "id": "UfYEp1OUDXTO"
   },
   "source": [
    "# Backboning on giant original_file"
   ]
  },
  {
   "cell_type": "code",
   "execution_count": 0,
   "metadata": {
    "colab": {},
    "colab_type": "code",
    "id": "Zs4Pyd7uDXTP"
   },
   "outputs": [],
   "source": [
    "g = nx.read_weighted_edgelist('preparation.csv',delimiter=\",\",comments='#',encoding='utf8')"
   ]
  },
  {
   "cell_type": "code",
   "execution_count": 0,
   "metadata": {
    "colab": {},
    "colab_type": "code",
    "id": "X4cUuYPNDXTS"
   },
   "outputs": [],
   "source": [
    "comps = list(nx.connected_components(g))"
   ]
  },
  {
   "cell_type": "code",
   "execution_count": 0,
   "metadata": {
    "colab": {},
    "colab_type": "code",
    "id": "F-hPZBP5DXTV"
   },
   "outputs": [],
   "source": [
    "giant_comp = nx.subgraph(g,comps[0])"
   ]
  },
  {
   "cell_type": "code",
   "execution_count": 0,
   "metadata": {
    "colab": {},
    "colab_type": "code",
    "id": "i8YB91GnDXTZ",
    "outputId": "a117d5ba-8392-4a4e-a833-87683b9f79a2"
   },
   "outputs": [
    {
     "data": {
      "text/plain": [
       "59279"
      ]
     },
     "execution_count": 8,
     "metadata": {
      "tags": []
     },
     "output_type": "execute_result"
    }
   ],
   "source": [
    "giant_comp.number_of_nodes()"
   ]
  },
  {
   "cell_type": "code",
   "execution_count": 0,
   "metadata": {
    "colab": {},
    "colab_type": "code",
    "id": "n1-BuwARDXTc",
    "outputId": "78a9479c-5af1-4571-e414-c3be2477ccb1"
   },
   "outputs": [
    {
     "data": {
      "text/html": [
       "<div>\n",
       "<style scoped>\n",
       "    .dataframe tbody tr th:only-of-type {\n",
       "        vertical-align: middle;\n",
       "    }\n",
       "\n",
       "    .dataframe tbody tr th {\n",
       "        vertical-align: top;\n",
       "    }\n",
       "\n",
       "    .dataframe thead th {\n",
       "        text-align: right;\n",
       "    }\n",
       "</style>\n",
       "<table border=\"1\" class=\"dataframe\">\n",
       "  <thead>\n",
       "    <tr style=\"text-align: right;\">\n",
       "      <th></th>\n",
       "      <th>src</th>\n",
       "      <th>trg</th>\n",
       "      <th>weight</th>\n",
       "    </tr>\n",
       "  </thead>\n",
       "  <tbody>\n",
       "    <tr>\n",
       "      <th>0</th>\n",
       "      <td>coronavirus</td>\n",
       "      <td>covid19</td>\n",
       "      <td>138.0</td>\n",
       "    </tr>\n",
       "    <tr>\n",
       "      <th>1</th>\n",
       "      <td>coronavirus</td>\n",
       "      <td>covid-19</td>\n",
       "      <td>90.0</td>\n",
       "    </tr>\n",
       "    <tr>\n",
       "      <th>2</th>\n",
       "      <td>coronavirus</td>\n",
       "      <td>podcast</td>\n",
       "      <td>89.0</td>\n",
       "    </tr>\n",
       "    <tr>\n",
       "      <th>3</th>\n",
       "      <td>coronavirus</td>\n",
       "      <td>quarantine</td>\n",
       "      <td>71.0</td>\n",
       "    </tr>\n",
       "    <tr>\n",
       "      <th>4</th>\n",
       "      <td>coronavirus</td>\n",
       "      <td>corona</td>\n",
       "      <td>50.0</td>\n",
       "    </tr>\n",
       "    <tr>\n",
       "      <th>...</th>\n",
       "      <td>...</td>\n",
       "      <td>...</td>\n",
       "      <td>...</td>\n",
       "    </tr>\n",
       "    <tr>\n",
       "      <th>940695</th>\n",
       "      <td>Live It</td>\n",
       "      <td>Live It Beats</td>\n",
       "      <td>1.0</td>\n",
       "    </tr>\n",
       "    <tr>\n",
       "      <th>940696</th>\n",
       "      <td>Logística</td>\n",
       "      <td>Lojas Físicas</td>\n",
       "      <td>1.0</td>\n",
       "    </tr>\n",
       "    <tr>\n",
       "      <th>940697</th>\n",
       "      <td>Mantova</td>\n",
       "      <td>Mantua Sport Network</td>\n",
       "      <td>1.0</td>\n",
       "    </tr>\n",
       "    <tr>\n",
       "      <th>940698</th>\n",
       "      <td>Mint</td>\n",
       "      <td>Mobile</td>\n",
       "      <td>1.0</td>\n",
       "    </tr>\n",
       "    <tr>\n",
       "      <th>940699</th>\n",
       "      <td>Moog</td>\n",
       "      <td>Matriach</td>\n",
       "      <td>1.0</td>\n",
       "    </tr>\n",
       "  </tbody>\n",
       "</table>\n",
       "<p>940700 rows × 3 columns</p>\n",
       "</div>"
      ],
      "text/plain": [
       "                src                   trg  weight\n",
       "0       coronavirus               covid19   138.0\n",
       "1       coronavirus              covid-19    90.0\n",
       "2       coronavirus               podcast    89.0\n",
       "3       coronavirus            quarantine    71.0\n",
       "4       coronavirus                corona    50.0\n",
       "...             ...                   ...     ...\n",
       "940695      Live It         Live It Beats     1.0\n",
       "940696    Logística         Lojas Físicas     1.0\n",
       "940697      Mantova  Mantua Sport Network     1.0\n",
       "940698         Mint                Mobile     1.0\n",
       "940699         Moog              Matriach     1.0\n",
       "\n",
       "[940700 rows x 3 columns]"
      ]
     },
     "execution_count": 9,
     "metadata": {
      "tags": []
     },
     "output_type": "execute_result"
    }
   ],
   "source": [
    "df = nx.to_pandas_edgelist(giant_comp)\n",
    "df = df.rename(columns={\"source\":\"src\",\"target\":\"trg\",\"weight\":\"weight\"})\n",
    "df"
   ]
  },
  {
   "cell_type": "code",
   "execution_count": 0,
   "metadata": {
    "colab": {},
    "colab_type": "code",
    "id": "kJF0P8GIDXTf"
   },
   "outputs": [],
   "source": [
    "df.to_csv('giant_comp_prep.csv',index=False)"
   ]
  },
  {
   "cell_type": "code",
   "execution_count": 0,
   "metadata": {
    "colab": {},
    "colab_type": "code",
    "id": "oH8OuElADXTi"
   },
   "outputs": [],
   "source": [
    "data = backboning.read('giant_comp_prep.csv', \"weight\", triangular_input=True,consider_self_loops = True, undirected = True,drop_zeroes=False,sep =\",\")"
   ]
  },
  {
   "cell_type": "code",
   "execution_count": 0,
   "metadata": {
    "colab": {},
    "colab_type": "code",
    "id": "Egv_ydQ5DXTk",
    "outputId": "95af98e1-c735-4d2f-85f2-283a4c9e9ca1"
   },
   "outputs": [
    {
     "data": {
      "text/html": [
       "<div>\n",
       "<style scoped>\n",
       "    .dataframe tbody tr th:only-of-type {\n",
       "        vertical-align: middle;\n",
       "    }\n",
       "\n",
       "    .dataframe tbody tr th {\n",
       "        vertical-align: top;\n",
       "    }\n",
       "\n",
       "    .dataframe thead th {\n",
       "        text-align: right;\n",
       "    }\n",
       "</style>\n",
       "<table border=\"1\" class=\"dataframe\">\n",
       "  <thead>\n",
       "    <tr style=\"text-align: right;\">\n",
       "      <th></th>\n",
       "      <th>src</th>\n",
       "      <th>trg</th>\n",
       "      <th>nij</th>\n",
       "    </tr>\n",
       "  </thead>\n",
       "  <tbody>\n",
       "    <tr>\n",
       "      <th>0</th>\n",
       "      <td>coronavirus</td>\n",
       "      <td>covid19</td>\n",
       "      <td>138.0</td>\n",
       "    </tr>\n",
       "    <tr>\n",
       "      <th>1</th>\n",
       "      <td>coronavirus</td>\n",
       "      <td>covid-19</td>\n",
       "      <td>90.0</td>\n",
       "    </tr>\n",
       "    <tr>\n",
       "      <th>2</th>\n",
       "      <td>coronavirus</td>\n",
       "      <td>podcast</td>\n",
       "      <td>89.0</td>\n",
       "    </tr>\n",
       "    <tr>\n",
       "      <th>3</th>\n",
       "      <td>coronavirus</td>\n",
       "      <td>quarantine</td>\n",
       "      <td>71.0</td>\n",
       "    </tr>\n",
       "    <tr>\n",
       "      <th>4</th>\n",
       "      <td>coronavirus</td>\n",
       "      <td>corona</td>\n",
       "      <td>50.0</td>\n",
       "    </tr>\n",
       "    <tr>\n",
       "      <th>...</th>\n",
       "      <td>...</td>\n",
       "      <td>...</td>\n",
       "      <td>...</td>\n",
       "    </tr>\n",
       "    <tr>\n",
       "      <th>940695</th>\n",
       "      <td>Live It</td>\n",
       "      <td>Live It Beats</td>\n",
       "      <td>1.0</td>\n",
       "    </tr>\n",
       "    <tr>\n",
       "      <th>940696</th>\n",
       "      <td>Logística</td>\n",
       "      <td>Lojas Físicas</td>\n",
       "      <td>1.0</td>\n",
       "    </tr>\n",
       "    <tr>\n",
       "      <th>940697</th>\n",
       "      <td>Mantova</td>\n",
       "      <td>Mantua Sport Network</td>\n",
       "      <td>1.0</td>\n",
       "    </tr>\n",
       "    <tr>\n",
       "      <th>940698</th>\n",
       "      <td>Mint</td>\n",
       "      <td>Mobile</td>\n",
       "      <td>1.0</td>\n",
       "    </tr>\n",
       "    <tr>\n",
       "      <th>940699</th>\n",
       "      <td>Moog</td>\n",
       "      <td>Matriach</td>\n",
       "      <td>1.0</td>\n",
       "    </tr>\n",
       "  </tbody>\n",
       "</table>\n",
       "<p>940700 rows × 3 columns</p>\n",
       "</div>"
      ],
      "text/plain": [
       "                src                   trg    nij\n",
       "0       coronavirus               covid19  138.0\n",
       "1       coronavirus              covid-19   90.0\n",
       "2       coronavirus               podcast   89.0\n",
       "3       coronavirus            quarantine   71.0\n",
       "4       coronavirus                corona   50.0\n",
       "...             ...                   ...    ...\n",
       "940695      Live It         Live It Beats    1.0\n",
       "940696    Logística         Lojas Físicas    1.0\n",
       "940697      Mantova  Mantua Sport Network    1.0\n",
       "940698         Mint                Mobile    1.0\n",
       "940699         Moog              Matriach    1.0\n",
       "\n",
       "[940700 rows x 3 columns]"
      ]
     },
     "execution_count": 12,
     "metadata": {
      "tags": []
     },
     "output_type": "execute_result"
    }
   ],
   "source": [
    "data = pd.read_csv('giant_comp_prep.csv')\n",
    "data = data.rename(columns={\"src\":\"src\", \"trg\":\"trg\", \"weight\":\"nij\"})\n",
    "data"
   ]
  },
  {
   "cell_type": "code",
   "execution_count": 0,
   "metadata": {
    "colab": {},
    "colab_type": "code",
    "id": "SvdqeT7jDXTo",
    "outputId": "7b6ab5a0-1f13-4be5-9c63-e22d9c424c0f"
   },
   "outputs": [
    {
     "name": "stderr",
     "output_type": "stream",
     "text": [
      "Calculating NC score...\n",
      "C:\\Users\\salva\\anaconda3\\lib\\site-packages\\pandas\\core\\computation\\expressions.py:178: UserWarning: evaluating in Python space because the '*' operator is not supported by numexpr for the bool dtype, use '&' instead\n",
      "  f\"evaluating in Python space because the {repr(op_str)} \"\n"
     ]
    }
   ],
   "source": [
    "noise_corrected = backboning.noise_corrected(data, undirected = True, return_self_loops = False, calculate_p_value = True)"
   ]
  },
  {
   "cell_type": "code",
   "execution_count": 0,
   "metadata": {
    "colab": {},
    "colab_type": "code",
    "id": "q0L977liDXTr"
   },
   "outputs": [],
   "source": [
    "noise_corrected.to_csv('noise_corrected_prep.csv',index=False)"
   ]
  },
  {
   "cell_type": "code",
   "execution_count": 0,
   "metadata": {
    "colab": {},
    "colab_type": "code",
    "id": "uS5-DQy-DXTt",
    "outputId": "33e96b8e-ee82-4c9d-8fe7-5a59f68b500c"
   },
   "outputs": [
    {
     "data": {
      "text/plain": [
       "<matplotlib.axes._subplots.AxesSubplot at 0x2065f033088>"
      ]
     },
     "execution_count": 15,
     "metadata": {
      "tags": []
     },
     "output_type": "execute_result"
    },
    {
     "data": {
      "image/png": "[encoded data removed]",
      "text/plain": [
       "<Figure size 432x288 with 1 Axes>"
      ]
     },
     "metadata": {
      "needs_background": "light",
      "tags": []
     },
     "output_type": "display_data"
    }
   ],
   "source": [
    "noise_corrected['score'].hist()"
   ]
  },
  {
   "cell_type": "code",
   "execution_count": 0,
   "metadata": {
    "colab": {},
    "colab_type": "code",
    "id": "OyIK5w0jDXTw",
    "outputId": "1f6c02c3-9b70-4f9e-fba7-b14f336a61ab"
   },
   "outputs": [
    {
     "data": {
      "text/html": [
       "<div>\n",
       "<style scoped>\n",
       "    .dataframe tbody tr th:only-of-type {\n",
       "        vertical-align: middle;\n",
       "    }\n",
       "\n",
       "    .dataframe tbody tr th {\n",
       "        vertical-align: top;\n",
       "    }\n",
       "\n",
       "    .dataframe thead th {\n",
       "        text-align: right;\n",
       "    }\n",
       "</style>\n",
       "<table border=\"1\" class=\"dataframe\">\n",
       "  <thead>\n",
       "    <tr style=\"text-align: right;\">\n",
       "      <th></th>\n",
       "      <th>src</th>\n",
       "      <th>trg</th>\n",
       "      <th>nij</th>\n",
       "      <th>score</th>\n",
       "    </tr>\n",
       "  </thead>\n",
       "  <tbody>\n",
       "    <tr>\n",
       "      <th>0</th>\n",
       "      <td>coronavirus</td>\n",
       "      <td>covid19</td>\n",
       "      <td>138.0</td>\n",
       "      <td>1.0</td>\n",
       "    </tr>\n",
       "    <tr>\n",
       "      <th>1</th>\n",
       "      <td>coronavirus</td>\n",
       "      <td>covid-19</td>\n",
       "      <td>90.0</td>\n",
       "      <td>1.0</td>\n",
       "    </tr>\n",
       "    <tr>\n",
       "      <th>25484</th>\n",
       "      <td>covid-19</td>\n",
       "      <td>covid-19</td>\n",
       "      <td>31.0</td>\n",
       "      <td>1.0</td>\n",
       "    </tr>\n",
       "    <tr>\n",
       "      <th>2</th>\n",
       "      <td>coronavirus</td>\n",
       "      <td>podcast</td>\n",
       "      <td>89.0</td>\n",
       "      <td>1.0</td>\n",
       "    </tr>\n",
       "    <tr>\n",
       "      <th>16895</th>\n",
       "      <td>covid19</td>\n",
       "      <td>podcast</td>\n",
       "      <td>21.0</td>\n",
       "      <td>1.0</td>\n",
       "    </tr>\n",
       "    <tr>\n",
       "      <th>...</th>\n",
       "      <td>...</td>\n",
       "      <td>...</td>\n",
       "      <td>...</td>\n",
       "      <td>...</td>\n",
       "    </tr>\n",
       "    <tr>\n",
       "      <th>939822</th>\n",
       "      <td>Spartans Football</td>\n",
       "      <td>San Jose State Spartans</td>\n",
       "      <td>1.0</td>\n",
       "      <td>1.0</td>\n",
       "    </tr>\n",
       "    <tr>\n",
       "      <th>939825</th>\n",
       "      <td>SJSU</td>\n",
       "      <td>San Jose State Spartans</td>\n",
       "      <td>1.0</td>\n",
       "      <td>1.0</td>\n",
       "    </tr>\n",
       "    <tr>\n",
       "      <th>939912</th>\n",
       "      <td>San Jose State</td>\n",
       "      <td>San Jose State Spartans</td>\n",
       "      <td>1.0</td>\n",
       "      <td>1.0</td>\n",
       "    </tr>\n",
       "    <tr>\n",
       "      <th>940561</th>\n",
       "      <td>PalmSunday</td>\n",
       "      <td>KingJesus</td>\n",
       "      <td>1.0</td>\n",
       "      <td>1.0</td>\n",
       "    </tr>\n",
       "    <tr>\n",
       "      <th>940628</th>\n",
       "      <td>HYGIENE</td>\n",
       "      <td>PERSONAL</td>\n",
       "      <td>1.0</td>\n",
       "      <td>1.0</td>\n",
       "    </tr>\n",
       "  </tbody>\n",
       "</table>\n",
       "<p>742120 rows × 4 columns</p>\n",
       "</div>"
      ],
      "text/plain": [
       "                      src                      trg    nij  score\n",
       "0             coronavirus                  covid19  138.0    1.0\n",
       "1             coronavirus                 covid-19   90.0    1.0\n",
       "25484            covid-19                 covid-19   31.0    1.0\n",
       "2             coronavirus                  podcast   89.0    1.0\n",
       "16895             covid19                  podcast   21.0    1.0\n",
       "...                   ...                      ...    ...    ...\n",
       "939822  Spartans Football  San Jose State Spartans    1.0    1.0\n",
       "939825               SJSU  San Jose State Spartans    1.0    1.0\n",
       "939912     San Jose State  San Jose State Spartans    1.0    1.0\n",
       "940561         PalmSunday                KingJesus    1.0    1.0\n",
       "940628            HYGIENE                 PERSONAL    1.0    1.0\n",
       "\n",
       "[742120 rows x 4 columns]"
      ]
     },
     "execution_count": 16,
     "metadata": {
      "tags": []
     },
     "output_type": "execute_result"
    }
   ],
   "source": [
    "thresholding = backboning.thresholding(noise_corrected, threshold=0.999)\n",
    "thresholding"
   ]
  },
  {
   "cell_type": "code",
   "execution_count": 0,
   "metadata": {
    "colab": {},
    "colab_type": "code",
    "id": "0iYB2PyADXTz",
    "outputId": "706ad41d-2e80-4bf2-b677-7ccdeeea1509"
   },
   "outputs": [
    {
     "data": {
      "text/html": [
       "<div>\n",
       "<style scoped>\n",
       "    .dataframe tbody tr th:only-of-type {\n",
       "        vertical-align: middle;\n",
       "    }\n",
       "\n",
       "    .dataframe tbody tr th {\n",
       "        vertical-align: top;\n",
       "    }\n",
       "\n",
       "    .dataframe thead th {\n",
       "        text-align: right;\n",
       "    }\n",
       "</style>\n",
       "<table border=\"1\" class=\"dataframe\">\n",
       "  <thead>\n",
       "    <tr style=\"text-align: right;\">\n",
       "      <th></th>\n",
       "      <th>#src</th>\n",
       "      <th>#trg</th>\n",
       "      <th>#nij</th>\n",
       "    </tr>\n",
       "  </thead>\n",
       "  <tbody>\n",
       "    <tr>\n",
       "      <th>0</th>\n",
       "      <td>coronavirus</td>\n",
       "      <td>covid19</td>\n",
       "      <td>138.0</td>\n",
       "    </tr>\n",
       "    <tr>\n",
       "      <th>1</th>\n",
       "      <td>coronavirus</td>\n",
       "      <td>covid-19</td>\n",
       "      <td>90.0</td>\n",
       "    </tr>\n",
       "    <tr>\n",
       "      <th>25484</th>\n",
       "      <td>covid-19</td>\n",
       "      <td>covid-19</td>\n",
       "      <td>31.0</td>\n",
       "    </tr>\n",
       "    <tr>\n",
       "      <th>2</th>\n",
       "      <td>coronavirus</td>\n",
       "      <td>podcast</td>\n",
       "      <td>89.0</td>\n",
       "    </tr>\n",
       "    <tr>\n",
       "      <th>16895</th>\n",
       "      <td>covid19</td>\n",
       "      <td>podcast</td>\n",
       "      <td>21.0</td>\n",
       "    </tr>\n",
       "    <tr>\n",
       "      <th>...</th>\n",
       "      <td>...</td>\n",
       "      <td>...</td>\n",
       "      <td>...</td>\n",
       "    </tr>\n",
       "    <tr>\n",
       "      <th>939822</th>\n",
       "      <td>Spartans Football</td>\n",
       "      <td>San Jose State Spartans</td>\n",
       "      <td>1.0</td>\n",
       "    </tr>\n",
       "    <tr>\n",
       "      <th>939825</th>\n",
       "      <td>SJSU</td>\n",
       "      <td>San Jose State Spartans</td>\n",
       "      <td>1.0</td>\n",
       "    </tr>\n",
       "    <tr>\n",
       "      <th>939912</th>\n",
       "      <td>San Jose State</td>\n",
       "      <td>San Jose State Spartans</td>\n",
       "      <td>1.0</td>\n",
       "    </tr>\n",
       "    <tr>\n",
       "      <th>940561</th>\n",
       "      <td>PalmSunday</td>\n",
       "      <td>KingJesus</td>\n",
       "      <td>1.0</td>\n",
       "    </tr>\n",
       "    <tr>\n",
       "      <th>940628</th>\n",
       "      <td>HYGIENE</td>\n",
       "      <td>PERSONAL</td>\n",
       "      <td>1.0</td>\n",
       "    </tr>\n",
       "  </tbody>\n",
       "</table>\n",
       "<p>742120 rows × 3 columns</p>\n",
       "</div>"
      ],
      "text/plain": [
       "                     #src                     #trg   #nij\n",
       "0             coronavirus                  covid19  138.0\n",
       "1             coronavirus                 covid-19   90.0\n",
       "25484            covid-19                 covid-19   31.0\n",
       "2             coronavirus                  podcast   89.0\n",
       "16895             covid19                  podcast   21.0\n",
       "...                   ...                      ...    ...\n",
       "939822  Spartans Football  San Jose State Spartans    1.0\n",
       "939825               SJSU  San Jose State Spartans    1.0\n",
       "939912     San Jose State  San Jose State Spartans    1.0\n",
       "940561         PalmSunday                KingJesus    1.0\n",
       "940628            HYGIENE                 PERSONAL    1.0\n",
       "\n",
       "[742120 rows x 3 columns]"
      ]
     },
     "execution_count": 17,
     "metadata": {
      "tags": []
     },
     "output_type": "execute_result"
    }
   ],
   "source": [
    "thresholding = thresholding[['src','trg','nij']]\n",
    "thresholding\n",
    "thresholding = thresholding.rename(columns={\"src\":\"#src\", \"trg\":\"#trg\", \"nij\":\"#nij\"})\n",
    "thresholding"
   ]
  },
  {
   "cell_type": "code",
   "execution_count": 0,
   "metadata": {
    "colab": {},
    "colab_type": "code",
    "id": "UJ_Fqa6bDXT2"
   },
   "outputs": [],
   "source": [
    "thresholding.to_csv('thresholding_prep.csv',index=False)"
   ]
  },
  {
   "cell_type": "code",
   "execution_count": 0,
   "metadata": {
    "colab": {},
    "colab_type": "code",
    "id": "Pc7SFxqzDXT4"
   },
   "outputs": [],
   "source": [
    "g = nx.read_weighted_edgelist('thresholding_prep.csv',delimiter=\",\",comments='#',encoding='utf8')"
   ]
  },
  {
   "cell_type": "code",
   "execution_count": 0,
   "metadata": {
    "colab": {},
    "colab_type": "code",
    "id": "NaZfrAzsDXT7",
    "outputId": "dc7085da-1c35-4fe5-ae9b-231db24abd54"
   },
   "outputs": [
    {
     "data": {
      "text/plain": [
       "59279"
      ]
     },
     "execution_count": 20,
     "metadata": {
      "tags": []
     },
     "output_type": "execute_result"
    }
   ],
   "source": [
    "g.number_of_nodes()"
   ]
  },
  {
   "cell_type": "code",
   "execution_count": 0,
   "metadata": {
    "colab": {},
    "colab_type": "code",
    "id": "y3rDV-HvDXT_",
    "outputId": "474d2a61-f6d4-44cc-eb26-8b5be0fa3f20"
   },
   "outputs": [
    {
     "data": {
      "text/plain": [
       "742120"
      ]
     },
     "execution_count": 21,
     "metadata": {
      "tags": []
     },
     "output_type": "execute_result"
    }
   ],
   "source": [
    "g.number_of_edges()"
   ]
  },
  {
   "cell_type": "code",
   "execution_count": 0,
   "metadata": {
    "colab": {},
    "colab_type": "code",
    "id": "6AYbUBiQDXUB",
    "outputId": "b31b4ded-7693-4663-a249-cf6dfcacd64c"
   },
   "outputs": [
    {
     "data": {
      "text/plain": [
       "0.00042238619971284535"
      ]
     },
     "execution_count": 22,
     "metadata": {
      "tags": []
     },
     "output_type": "execute_result"
    }
   ],
   "source": [
    "nx.density(g)"
   ]
  },
  {
   "cell_type": "markdown",
   "metadata": {
    "colab_type": "text",
    "id": "KM46qsuIDXUI"
   },
   "source": [
    "# Backboning on giant dropped_file"
   ]
  },
  {
   "cell_type": "code",
   "execution_count": 0,
   "metadata": {
    "colab": {},
    "colab_type": "code",
    "id": "RsIrJywpDXUJ"
   },
   "outputs": [],
   "source": [
    "data = pd.read_csv('real_net.csv')"
   ]
  },
  {
   "cell_type": "code",
   "execution_count": 0,
   "metadata": {
    "colab": {},
    "colab_type": "code",
    "id": "Z61vT29BDXUL",
    "outputId": "cb52cf8f-6768-4d12-91c8-170f8585ee59"
   },
   "outputs": [
    {
     "data": {
      "text/html": [
       "<div>\n",
       "<style scoped>\n",
       "    .dataframe tbody tr th:only-of-type {\n",
       "        vertical-align: middle;\n",
       "    }\n",
       "\n",
       "    .dataframe tbody tr th {\n",
       "        vertical-align: top;\n",
       "    }\n",
       "\n",
       "    .dataframe thead th {\n",
       "        text-align: right;\n",
       "    }\n",
       "</style>\n",
       "<table border=\"1\" class=\"dataframe\">\n",
       "  <thead>\n",
       "    <tr style=\"text-align: right;\">\n",
       "      <th></th>\n",
       "      <th>#nodo1</th>\n",
       "      <th>#nodo2</th>\n",
       "      <th>#peso</th>\n",
       "    </tr>\n",
       "  </thead>\n",
       "  <tbody>\n",
       "    <tr>\n",
       "      <th>6</th>\n",
       "      <td>Hip Hop</td>\n",
       "      <td>rap</td>\n",
       "      <td>395.0</td>\n",
       "    </tr>\n",
       "    <tr>\n",
       "      <th>7</th>\n",
       "      <td>Hip Hop</td>\n",
       "      <td>Rap</td>\n",
       "      <td>359.0</td>\n",
       "    </tr>\n",
       "    <tr>\n",
       "      <th>15</th>\n",
       "      <td>rap</td>\n",
       "      <td>trap</td>\n",
       "      <td>274.0</td>\n",
       "    </tr>\n",
       "    <tr>\n",
       "      <th>21</th>\n",
       "      <td>Deep House</td>\n",
       "      <td>House</td>\n",
       "      <td>254.0</td>\n",
       "    </tr>\n",
       "    <tr>\n",
       "      <th>24</th>\n",
       "      <td>Hip Hop</td>\n",
       "      <td>Trap</td>\n",
       "      <td>228.0</td>\n",
       "    </tr>\n",
       "    <tr>\n",
       "      <th>...</th>\n",
       "      <td>...</td>\n",
       "      <td>...</td>\n",
       "      <td>...</td>\n",
       "    </tr>\n",
       "    <tr>\n",
       "      <th>952923</th>\n",
       "      <td>Membership</td>\n",
       "      <td>Montgomery County</td>\n",
       "      <td>1.0</td>\n",
       "    </tr>\n",
       "    <tr>\n",
       "      <th>952924</th>\n",
       "      <td>Membership</td>\n",
       "      <td>Small Business</td>\n",
       "      <td>1.0</td>\n",
       "    </tr>\n",
       "    <tr>\n",
       "      <th>952925</th>\n",
       "      <td>Membership</td>\n",
       "      <td>Terri Sewell</td>\n",
       "      <td>1.0</td>\n",
       "    </tr>\n",
       "    <tr>\n",
       "      <th>952926</th>\n",
       "      <td>Meme</td>\n",
       "      <td>Money</td>\n",
       "      <td>1.0</td>\n",
       "    </tr>\n",
       "    <tr>\n",
       "      <th>952927</th>\n",
       "      <td>Vocal</td>\n",
       "      <td>pandemic</td>\n",
       "      <td>1.0</td>\n",
       "    </tr>\n",
       "  </tbody>\n",
       "</table>\n",
       "<p>848926 rows × 3 columns</p>\n",
       "</div>"
      ],
      "text/plain": [
       "            #nodo1             #nodo2  #peso\n",
       "6          Hip Hop                rap  395.0\n",
       "7          Hip Hop                Rap  359.0\n",
       "15             rap               trap  274.0\n",
       "21      Deep House              House  254.0\n",
       "24         Hip Hop               Trap  228.0\n",
       "...            ...                ...    ...\n",
       "952923  Membership  Montgomery County    1.0\n",
       "952924  Membership     Small Business    1.0\n",
       "952925  Membership       Terri Sewell    1.0\n",
       "952926        Meme              Money    1.0\n",
       "952927       Vocal           pandemic    1.0\n",
       "\n",
       "[848926 rows x 3 columns]"
      ]
     },
     "execution_count": 3,
     "metadata": {
      "tags": []
     },
     "output_type": "execute_result"
    }
   ],
   "source": [
    "str_to_drop = ['coronavirus', 'covid','lockdown','quarantine','Coronavirus','CORONAVIRUS','COVID','Covid','Lockdown','LOCKDOWN','Quarantine','QUARANTINE']\n",
    "dropped_nodo1 = data[~data['#nodo1'].str.contains('|'.join(str_to_drop))]\n",
    "dropped_nodo2 = dropped_nodo1[~dropped_nodo1['#nodo2'].str.contains('|'.join(str_to_drop))]\n",
    "dropped_nodo2"
   ]
  },
  {
   "cell_type": "code",
   "execution_count": 0,
   "metadata": {
    "colab": {},
    "colab_type": "code",
    "id": "VHhCAI3_DXUP"
   },
   "outputs": [],
   "source": [
    "dropped_nodo2.to_csv('prep_link_dropped.csv',index=False)"
   ]
  },
  {
   "cell_type": "code",
   "execution_count": 0,
   "metadata": {
    "colab": {},
    "colab_type": "code",
    "id": "8W04WFNVDXUS"
   },
   "outputs": [],
   "source": [
    "g = nx.read_weighted_edgelist('prep_link_dropped.csv',delimiter=\",\",comments='#',encoding='utf8')"
   ]
  },
  {
   "cell_type": "code",
   "execution_count": 0,
   "metadata": {
    "colab": {},
    "colab_type": "code",
    "id": "1wonvYjtDXUV",
    "outputId": "bd3cf754-2d15-4f0c-e2e7-53ee8fcc972f"
   },
   "outputs": [
    {
     "data": {
      "text/plain": [
       "59415"
      ]
     },
     "execution_count": 7,
     "metadata": {
      "tags": []
     },
     "output_type": "execute_result"
    }
   ],
   "source": [
    "g.number_of_nodes()"
   ]
  },
  {
   "cell_type": "code",
   "execution_count": 0,
   "metadata": {
    "colab": {},
    "colab_type": "code",
    "id": "f6AxJYgxDXUX",
    "outputId": "5c7fad16-4051-43fe-d01d-64a88b57c27b"
   },
   "outputs": [
    {
     "data": {
      "text/plain": [
       "0.00047290675314214515"
      ]
     },
     "execution_count": 8,
     "metadata": {
      "tags": []
     },
     "output_type": "execute_result"
    }
   ],
   "source": [
    "nx.density(g)"
   ]
  },
  {
   "cell_type": "code",
   "execution_count": 0,
   "metadata": {
    "colab": {},
    "colab_type": "code",
    "id": "m4iAKP7UDXUa"
   },
   "outputs": [],
   "source": [
    "comps = list(nx.connected_components(g))"
   ]
  },
  {
   "cell_type": "code",
   "execution_count": 0,
   "metadata": {
    "colab": {},
    "colab_type": "code",
    "id": "VOBJmjp-DXUe"
   },
   "outputs": [],
   "source": [
    "giant_comp = nx.subgraph(g,comps[0])"
   ]
  },
  {
   "cell_type": "code",
   "execution_count": 0,
   "metadata": {
    "colab": {},
    "colab_type": "code",
    "id": "El6PUUVYDXUh",
    "outputId": "dc84d225-2dde-4adb-f2cf-2ad80e93650d"
   },
   "outputs": [
    {
     "data": {
      "text/plain": [
       "56868"
      ]
     },
     "execution_count": 113,
     "metadata": {
      "tags": []
     },
     "output_type": "execute_result"
    }
   ],
   "source": [
    "giant_comp.number_of_nodes()"
   ]
  },
  {
   "cell_type": "code",
   "execution_count": 0,
   "metadata": {
    "colab": {},
    "colab_type": "code",
    "id": "eZ3QROiTDXUj",
    "outputId": "a71e5e0b-4feb-418b-adb3-244225987ba5"
   },
   "outputs": [
    {
     "data": {
      "text/plain": [
       "829333"
      ]
     },
     "execution_count": 114,
     "metadata": {
      "tags": []
     },
     "output_type": "execute_result"
    }
   ],
   "source": [
    "giant_comp.number_of_edges()"
   ]
  },
  {
   "cell_type": "code",
   "execution_count": 0,
   "metadata": {
    "colab": {},
    "colab_type": "code",
    "id": "PNZN1qpSDXUl",
    "outputId": "73cb0169-0aaf-4fc6-9eef-4948c8a005e5"
   },
   "outputs": [
    {
     "data": {
      "text/plain": [
       "0.0005128976035306255"
      ]
     },
     "execution_count": 115,
     "metadata": {
      "tags": []
     },
     "output_type": "execute_result"
    }
   ],
   "source": [
    "nx.density(giant_comp)"
   ]
  },
  {
   "cell_type": "code",
   "execution_count": 0,
   "metadata": {
    "colab": {},
    "colab_type": "code",
    "id": "aUDvqnxWDXUo",
    "outputId": "de58b005-66ad-47d3-c7e7-1c223c074c14"
   },
   "outputs": [
    {
     "data": {
      "text/html": [
       "<div>\n",
       "<style scoped>\n",
       "    .dataframe tbody tr th:only-of-type {\n",
       "        vertical-align: middle;\n",
       "    }\n",
       "\n",
       "    .dataframe tbody tr th {\n",
       "        vertical-align: top;\n",
       "    }\n",
       "\n",
       "    .dataframe thead th {\n",
       "        text-align: right;\n",
       "    }\n",
       "</style>\n",
       "<table border=\"1\" class=\"dataframe\">\n",
       "  <thead>\n",
       "    <tr style=\"text-align: right;\">\n",
       "      <th></th>\n",
       "      <th>src</th>\n",
       "      <th>trg</th>\n",
       "      <th>weight</th>\n",
       "    </tr>\n",
       "  </thead>\n",
       "  <tbody>\n",
       "    <tr>\n",
       "      <th>0</th>\n",
       "      <td>Hip Hop</td>\n",
       "      <td>rap</td>\n",
       "      <td>76.0</td>\n",
       "    </tr>\n",
       "    <tr>\n",
       "      <th>1</th>\n",
       "      <td>Hip Hop</td>\n",
       "      <td>Rap</td>\n",
       "      <td>139.0</td>\n",
       "    </tr>\n",
       "    <tr>\n",
       "      <th>2</th>\n",
       "      <td>Hip Hop</td>\n",
       "      <td>Trap</td>\n",
       "      <td>69.0</td>\n",
       "    </tr>\n",
       "    <tr>\n",
       "      <th>3</th>\n",
       "      <td>Hip Hop</td>\n",
       "      <td>trap</td>\n",
       "      <td>30.0</td>\n",
       "    </tr>\n",
       "    <tr>\n",
       "      <th>4</th>\n",
       "      <td>Hip Hop</td>\n",
       "      <td>2020</td>\n",
       "      <td>3.0</td>\n",
       "    </tr>\n",
       "    <tr>\n",
       "      <th>...</th>\n",
       "      <td>...</td>\n",
       "      <td>...</td>\n",
       "      <td>...</td>\n",
       "    </tr>\n",
       "    <tr>\n",
       "      <th>829328</th>\n",
       "      <td>Live It</td>\n",
       "      <td>Live It Beats</td>\n",
       "      <td>1.0</td>\n",
       "    </tr>\n",
       "    <tr>\n",
       "      <th>829329</th>\n",
       "      <td>Live It</td>\n",
       "      <td>Murda Beatz</td>\n",
       "      <td>1.0</td>\n",
       "    </tr>\n",
       "    <tr>\n",
       "      <th>829330</th>\n",
       "      <td>Live It Beats</td>\n",
       "      <td>Murda Beatz</td>\n",
       "      <td>1.0</td>\n",
       "    </tr>\n",
       "    <tr>\n",
       "      <th>829331</th>\n",
       "      <td>Mint</td>\n",
       "      <td>Mobile</td>\n",
       "      <td>1.0</td>\n",
       "    </tr>\n",
       "    <tr>\n",
       "      <th>829332</th>\n",
       "      <td>Moog</td>\n",
       "      <td>Matriach</td>\n",
       "      <td>1.0</td>\n",
       "    </tr>\n",
       "  </tbody>\n",
       "</table>\n",
       "<p>829333 rows × 3 columns</p>\n",
       "</div>"
      ],
      "text/plain": [
       "                  src            trg  weight\n",
       "0             Hip Hop            rap    76.0\n",
       "1             Hip Hop            Rap   139.0\n",
       "2             Hip Hop           Trap    69.0\n",
       "3             Hip Hop           trap    30.0\n",
       "4             Hip Hop           2020     3.0\n",
       "...               ...            ...     ...\n",
       "829328        Live It  Live It Beats     1.0\n",
       "829329        Live It    Murda Beatz     1.0\n",
       "829330  Live It Beats    Murda Beatz     1.0\n",
       "829331           Mint         Mobile     1.0\n",
       "829332           Moog       Matriach     1.0\n",
       "\n",
       "[829333 rows x 3 columns]"
      ]
     },
     "execution_count": 116,
     "metadata": {
      "tags": []
     },
     "output_type": "execute_result"
    }
   ],
   "source": [
    "df = nx.to_pandas_edgelist(giant_comp)\n",
    "df = df.rename(columns={\"source\":\"src\",\"target\":\"trg\",\"weight\":\"weight\"})\n",
    "df"
   ]
  },
  {
   "cell_type": "code",
   "execution_count": 0,
   "metadata": {
    "colab": {},
    "colab_type": "code",
    "id": "6rejzqbuDXUq"
   },
   "outputs": [],
   "source": [
    "df.to_csv('giant_comp_dropped_prep.csv',index=False)"
   ]
  },
  {
   "cell_type": "code",
   "execution_count": 0,
   "metadata": {
    "colab": {},
    "colab_type": "code",
    "id": "KwKIeUr1DXUt"
   },
   "outputs": [],
   "source": [
    "data = backboning.read('giant_comp_dropped_prep.csv', \"weight\", triangular_input=True,consider_self_loops = True, undirected = True,drop_zeroes=False,sep =\",\")"
   ]
  },
  {
   "cell_type": "code",
   "execution_count": 0,
   "metadata": {
    "colab": {},
    "colab_type": "code",
    "id": "A4lA2cE9DXUw",
    "outputId": "b76fe8ed-1f5b-4d13-a950-d8bba0759caa"
   },
   "outputs": [
    {
     "data": {
      "text/html": [
       "<div>\n",
       "<style scoped>\n",
       "    .dataframe tbody tr th:only-of-type {\n",
       "        vertical-align: middle;\n",
       "    }\n",
       "\n",
       "    .dataframe tbody tr th {\n",
       "        vertical-align: top;\n",
       "    }\n",
       "\n",
       "    .dataframe thead th {\n",
       "        text-align: right;\n",
       "    }\n",
       "</style>\n",
       "<table border=\"1\" class=\"dataframe\">\n",
       "  <thead>\n",
       "    <tr style=\"text-align: right;\">\n",
       "      <th></th>\n",
       "      <th>src</th>\n",
       "      <th>trg</th>\n",
       "      <th>nij</th>\n",
       "    </tr>\n",
       "  </thead>\n",
       "  <tbody>\n",
       "    <tr>\n",
       "      <th>0</th>\n",
       "      <td>Hip Hop</td>\n",
       "      <td>rap</td>\n",
       "      <td>76.0</td>\n",
       "    </tr>\n",
       "    <tr>\n",
       "      <th>1</th>\n",
       "      <td>Hip Hop</td>\n",
       "      <td>Rap</td>\n",
       "      <td>139.0</td>\n",
       "    </tr>\n",
       "    <tr>\n",
       "      <th>2</th>\n",
       "      <td>Hip Hop</td>\n",
       "      <td>Trap</td>\n",
       "      <td>69.0</td>\n",
       "    </tr>\n",
       "    <tr>\n",
       "      <th>3</th>\n",
       "      <td>Hip Hop</td>\n",
       "      <td>trap</td>\n",
       "      <td>30.0</td>\n",
       "    </tr>\n",
       "    <tr>\n",
       "      <th>4</th>\n",
       "      <td>Hip Hop</td>\n",
       "      <td>2020</td>\n",
       "      <td>3.0</td>\n",
       "    </tr>\n",
       "    <tr>\n",
       "      <th>...</th>\n",
       "      <td>...</td>\n",
       "      <td>...</td>\n",
       "      <td>...</td>\n",
       "    </tr>\n",
       "    <tr>\n",
       "      <th>829328</th>\n",
       "      <td>Live It</td>\n",
       "      <td>Live It Beats</td>\n",
       "      <td>1.0</td>\n",
       "    </tr>\n",
       "    <tr>\n",
       "      <th>829329</th>\n",
       "      <td>Live It</td>\n",
       "      <td>Murda Beatz</td>\n",
       "      <td>1.0</td>\n",
       "    </tr>\n",
       "    <tr>\n",
       "      <th>829330</th>\n",
       "      <td>Live It Beats</td>\n",
       "      <td>Murda Beatz</td>\n",
       "      <td>1.0</td>\n",
       "    </tr>\n",
       "    <tr>\n",
       "      <th>829331</th>\n",
       "      <td>Mint</td>\n",
       "      <td>Mobile</td>\n",
       "      <td>1.0</td>\n",
       "    </tr>\n",
       "    <tr>\n",
       "      <th>829332</th>\n",
       "      <td>Moog</td>\n",
       "      <td>Matriach</td>\n",
       "      <td>1.0</td>\n",
       "    </tr>\n",
       "  </tbody>\n",
       "</table>\n",
       "<p>829333 rows × 3 columns</p>\n",
       "</div>"
      ],
      "text/plain": [
       "                  src            trg    nij\n",
       "0             Hip Hop            rap   76.0\n",
       "1             Hip Hop            Rap  139.0\n",
       "2             Hip Hop           Trap   69.0\n",
       "3             Hip Hop           trap   30.0\n",
       "4             Hip Hop           2020    3.0\n",
       "...               ...            ...    ...\n",
       "829328        Live It  Live It Beats    1.0\n",
       "829329        Live It    Murda Beatz    1.0\n",
       "829330  Live It Beats    Murda Beatz    1.0\n",
       "829331           Mint         Mobile    1.0\n",
       "829332           Moog       Matriach    1.0\n",
       "\n",
       "[829333 rows x 3 columns]"
      ]
     },
     "execution_count": 119,
     "metadata": {
      "tags": []
     },
     "output_type": "execute_result"
    }
   ],
   "source": [
    "data = pd.read_csv('giant_comp_dropped_prep.csv')\n",
    "data = data.rename(columns={\"src\":\"src\", \"trg\":\"trg\", \"weight\":\"nij\"})\n",
    "data"
   ]
  },
  {
   "cell_type": "code",
   "execution_count": 0,
   "metadata": {
    "colab": {},
    "colab_type": "code",
    "id": "wPJBCdklDXUz",
    "outputId": "aecba648-9022-4b63-c6c8-c84cd9cfb0ad"
   },
   "outputs": [
    {
     "name": "stderr",
     "output_type": "stream",
     "text": [
      "Calculating NC score...\n",
      "C:\\Users\\salva\\anaconda3\\lib\\site-packages\\scipy\\stats\\_distn_infrastructure.py:3072: RuntimeWarning: invalid value encountered in greater_equal\n",
      "  cond1 = (k >= _a) & (k < _b)\n",
      "C:\\Users\\salva\\anaconda3\\lib\\site-packages\\pandas\\core\\computation\\expressions.py:178: UserWarning: evaluating in Python space because the '*' operator is not supported by numexpr for the bool dtype, use '&' instead\n",
      "  f\"evaluating in Python space because the {repr(op_str)} \"\n"
     ]
    }
   ],
   "source": [
    "noise_corrected = backboning.noise_corrected(data, undirected = True, return_self_loops = False, calculate_p_value = True)"
   ]
  },
  {
   "cell_type": "code",
   "execution_count": 0,
   "metadata": {
    "colab": {},
    "colab_type": "code",
    "id": "28bqYqmmDXU1"
   },
   "outputs": [],
   "source": [
    "noise_corrected.to_csv('noise_corrected_dropped_prep.csv',index=False)"
   ]
  },
  {
   "cell_type": "code",
   "execution_count": 0,
   "metadata": {
    "colab": {},
    "colab_type": "code",
    "id": "PERcKQOrDXU4",
    "outputId": "b13143d3-2a54-49c2-b0df-d8149e4cbbca"
   },
   "outputs": [
    {
     "data": {
      "text/plain": [
       "<matplotlib.axes._subplots.AxesSubplot at 0x2040d179588>"
      ]
     },
     "execution_count": 122,
     "metadata": {
      "tags": []
     },
     "output_type": "execute_result"
    },
    {
     "data": {
      "image/png": "[encoded data removed]",
      "text/plain": [
       "<Figure size 432x288 with 1 Axes>"
      ]
     },
     "metadata": {
      "needs_background": "light",
      "tags": []
     },
     "output_type": "display_data"
    }
   ],
   "source": [
    "noise_corrected['score'].hist()"
   ]
  },
  {
   "cell_type": "code",
   "execution_count": 0,
   "metadata": {
    "colab": {},
    "colab_type": "code",
    "id": "9dO19MaxDXU_",
    "outputId": "7ca2c709-e631-4bfe-bfec-7130f8009ce4"
   },
   "outputs": [
    {
     "data": {
      "text/html": [
       "<div>\n",
       "<style scoped>\n",
       "    .dataframe tbody tr th:only-of-type {\n",
       "        vertical-align: middle;\n",
       "    }\n",
       "\n",
       "    .dataframe tbody tr th {\n",
       "        vertical-align: top;\n",
       "    }\n",
       "\n",
       "    .dataframe thead th {\n",
       "        text-align: right;\n",
       "    }\n",
       "</style>\n",
       "<table border=\"1\" class=\"dataframe\">\n",
       "  <thead>\n",
       "    <tr style=\"text-align: right;\">\n",
       "      <th></th>\n",
       "      <th>src</th>\n",
       "      <th>trg</th>\n",
       "      <th>nij</th>\n",
       "      <th>score</th>\n",
       "    </tr>\n",
       "  </thead>\n",
       "  <tbody>\n",
       "    <tr>\n",
       "      <th>0</th>\n",
       "      <td>Hip Hop</td>\n",
       "      <td>rap</td>\n",
       "      <td>76.0</td>\n",
       "      <td>1.0</td>\n",
       "    </tr>\n",
       "    <tr>\n",
       "      <th>5737</th>\n",
       "      <td>rap</td>\n",
       "      <td>rap</td>\n",
       "      <td>35.0</td>\n",
       "      <td>1.0</td>\n",
       "    </tr>\n",
       "    <tr>\n",
       "      <th>1</th>\n",
       "      <td>Hip Hop</td>\n",
       "      <td>Rap</td>\n",
       "      <td>139.0</td>\n",
       "      <td>1.0</td>\n",
       "    </tr>\n",
       "    <tr>\n",
       "      <th>5892</th>\n",
       "      <td>rap</td>\n",
       "      <td>Rap</td>\n",
       "      <td>10.0</td>\n",
       "      <td>1.0</td>\n",
       "    </tr>\n",
       "    <tr>\n",
       "      <th>2</th>\n",
       "      <td>Hip Hop</td>\n",
       "      <td>Trap</td>\n",
       "      <td>69.0</td>\n",
       "      <td>1.0</td>\n",
       "    </tr>\n",
       "    <tr>\n",
       "      <th>...</th>\n",
       "      <td>...</td>\n",
       "      <td>...</td>\n",
       "      <td>...</td>\n",
       "      <td>...</td>\n",
       "    </tr>\n",
       "    <tr>\n",
       "      <th>828387</th>\n",
       "      <td>San Jose State</td>\n",
       "      <td>San Jose State Spartans</td>\n",
       "      <td>1.0</td>\n",
       "      <td>1.0</td>\n",
       "    </tr>\n",
       "    <tr>\n",
       "      <th>829148</th>\n",
       "      <td>abc illawarra</td>\n",
       "      <td>teachersrock</td>\n",
       "      <td>1.0</td>\n",
       "      <td>1.0</td>\n",
       "    </tr>\n",
       "    <tr>\n",
       "      <th>829174</th>\n",
       "      <td>PalmSunday</td>\n",
       "      <td>KingJesus</td>\n",
       "      <td>1.0</td>\n",
       "      <td>1.0</td>\n",
       "    </tr>\n",
       "    <tr>\n",
       "      <th>829252</th>\n",
       "      <td>New World Order</td>\n",
       "      <td>Conspiracy Theories</td>\n",
       "      <td>1.0</td>\n",
       "      <td>1.0</td>\n",
       "    </tr>\n",
       "    <tr>\n",
       "      <th>829257</th>\n",
       "      <td>HYGIENE</td>\n",
       "      <td>PERSONAL</td>\n",
       "      <td>1.0</td>\n",
       "      <td>1.0</td>\n",
       "    </tr>\n",
       "  </tbody>\n",
       "</table>\n",
       "<p>699304 rows × 4 columns</p>\n",
       "</div>"
      ],
      "text/plain": [
       "                    src                      trg    nij  score\n",
       "0               Hip Hop                      rap   76.0    1.0\n",
       "5737                rap                      rap   35.0    1.0\n",
       "1               Hip Hop                      Rap  139.0    1.0\n",
       "5892                rap                      Rap   10.0    1.0\n",
       "2               Hip Hop                     Trap   69.0    1.0\n",
       "...                 ...                      ...    ...    ...\n",
       "828387   San Jose State  San Jose State Spartans    1.0    1.0\n",
       "829148    abc illawarra             teachersrock    1.0    1.0\n",
       "829174       PalmSunday                KingJesus    1.0    1.0\n",
       "829252  New World Order      Conspiracy Theories    1.0    1.0\n",
       "829257          HYGIENE                 PERSONAL    1.0    1.0\n",
       "\n",
       "[699304 rows x 4 columns]"
      ]
     },
     "execution_count": 123,
     "metadata": {
      "tags": []
     },
     "output_type": "execute_result"
    }
   ],
   "source": [
    "thresholding = backboning.thresholding(noise_corrected, threshold=0.999)\n",
    "thresholding"
   ]
  },
  {
   "cell_type": "code",
   "execution_count": 0,
   "metadata": {
    "colab": {},
    "colab_type": "code",
    "id": "2Z-SapAwDXVD",
    "outputId": "c7d3a1b5-89d3-4585-efa4-8f95a44dc7a3"
   },
   "outputs": [
    {
     "data": {
      "text/html": [
       "<div>\n",
       "<style scoped>\n",
       "    .dataframe tbody tr th:only-of-type {\n",
       "        vertical-align: middle;\n",
       "    }\n",
       "\n",
       "    .dataframe tbody tr th {\n",
       "        vertical-align: top;\n",
       "    }\n",
       "\n",
       "    .dataframe thead th {\n",
       "        text-align: right;\n",
       "    }\n",
       "</style>\n",
       "<table border=\"1\" class=\"dataframe\">\n",
       "  <thead>\n",
       "    <tr style=\"text-align: right;\">\n",
       "      <th></th>\n",
       "      <th>#src</th>\n",
       "      <th>#trg</th>\n",
       "      <th>#nij</th>\n",
       "    </tr>\n",
       "  </thead>\n",
       "  <tbody>\n",
       "    <tr>\n",
       "      <th>0</th>\n",
       "      <td>Hip Hop</td>\n",
       "      <td>rap</td>\n",
       "      <td>76.0</td>\n",
       "    </tr>\n",
       "    <tr>\n",
       "      <th>5737</th>\n",
       "      <td>rap</td>\n",
       "      <td>rap</td>\n",
       "      <td>35.0</td>\n",
       "    </tr>\n",
       "    <tr>\n",
       "      <th>1</th>\n",
       "      <td>Hip Hop</td>\n",
       "      <td>Rap</td>\n",
       "      <td>139.0</td>\n",
       "    </tr>\n",
       "    <tr>\n",
       "      <th>5892</th>\n",
       "      <td>rap</td>\n",
       "      <td>Rap</td>\n",
       "      <td>10.0</td>\n",
       "    </tr>\n",
       "    <tr>\n",
       "      <th>2</th>\n",
       "      <td>Hip Hop</td>\n",
       "      <td>Trap</td>\n",
       "      <td>69.0</td>\n",
       "    </tr>\n",
       "    <tr>\n",
       "      <th>...</th>\n",
       "      <td>...</td>\n",
       "      <td>...</td>\n",
       "      <td>...</td>\n",
       "    </tr>\n",
       "    <tr>\n",
       "      <th>828387</th>\n",
       "      <td>San Jose State</td>\n",
       "      <td>San Jose State Spartans</td>\n",
       "      <td>1.0</td>\n",
       "    </tr>\n",
       "    <tr>\n",
       "      <th>829148</th>\n",
       "      <td>abc illawarra</td>\n",
       "      <td>teachersrock</td>\n",
       "      <td>1.0</td>\n",
       "    </tr>\n",
       "    <tr>\n",
       "      <th>829174</th>\n",
       "      <td>PalmSunday</td>\n",
       "      <td>KingJesus</td>\n",
       "      <td>1.0</td>\n",
       "    </tr>\n",
       "    <tr>\n",
       "      <th>829252</th>\n",
       "      <td>New World Order</td>\n",
       "      <td>Conspiracy Theories</td>\n",
       "      <td>1.0</td>\n",
       "    </tr>\n",
       "    <tr>\n",
       "      <th>829257</th>\n",
       "      <td>HYGIENE</td>\n",
       "      <td>PERSONAL</td>\n",
       "      <td>1.0</td>\n",
       "    </tr>\n",
       "  </tbody>\n",
       "</table>\n",
       "<p>699304 rows × 3 columns</p>\n",
       "</div>"
      ],
      "text/plain": [
       "                   #src                     #trg   #nij\n",
       "0               Hip Hop                      rap   76.0\n",
       "5737                rap                      rap   35.0\n",
       "1               Hip Hop                      Rap  139.0\n",
       "5892                rap                      Rap   10.0\n",
       "2               Hip Hop                     Trap   69.0\n",
       "...                 ...                      ...    ...\n",
       "828387   San Jose State  San Jose State Spartans    1.0\n",
       "829148    abc illawarra             teachersrock    1.0\n",
       "829174       PalmSunday                KingJesus    1.0\n",
       "829252  New World Order      Conspiracy Theories    1.0\n",
       "829257          HYGIENE                 PERSONAL    1.0\n",
       "\n",
       "[699304 rows x 3 columns]"
      ]
     },
     "execution_count": 124,
     "metadata": {
      "tags": []
     },
     "output_type": "execute_result"
    }
   ],
   "source": [
    "thresholding = thresholding[['src','trg','nij']]\n",
    "thresholding\n",
    "thresholding = thresholding.rename(columns={\"src\":\"#src\", \"trg\":\"#trg\", \"nij\":\"#nij\"})\n",
    "thresholding"
   ]
  },
  {
   "cell_type": "code",
   "execution_count": 0,
   "metadata": {
    "colab": {},
    "colab_type": "code",
    "id": "VCW6rPj3DXVH"
   },
   "outputs": [],
   "source": [
    "thresholding.to_csv('thresholding_dropped_prep.csv',index=False)"
   ]
  },
  {
   "cell_type": "code",
   "execution_count": 0,
   "metadata": {
    "colab": {},
    "colab_type": "code",
    "id": "h19ms2jpDXVK"
   },
   "outputs": [],
   "source": [
    "g = nx.read_weighted_edgelist('thresholding_dropped_prep.csv',delimiter=\",\",comments='#',encoding='utf8')"
   ]
  },
  {
   "cell_type": "code",
   "execution_count": 0,
   "metadata": {
    "colab": {},
    "colab_type": "code",
    "id": "9vGQh5QvDXVQ",
    "outputId": "932bded4-2954-4bf4-8b74-414c3ccde7ed"
   },
   "outputs": [
    {
     "data": {
      "text/plain": [
       "56829"
      ]
     },
     "execution_count": 127,
     "metadata": {
      "tags": []
     },
     "output_type": "execute_result"
    }
   ],
   "source": [
    "g.number_of_nodes()"
   ]
  },
  {
   "cell_type": "code",
   "execution_count": 0,
   "metadata": {
    "colab": {},
    "colab_type": "code",
    "id": "ofukerYGDXVT",
    "outputId": "02c9a7d2-e949-41bc-da45-841bb3663179"
   },
   "outputs": [
    {
     "data": {
      "text/plain": [
       "699304"
      ]
     },
     "execution_count": 128,
     "metadata": {
      "tags": []
     },
     "output_type": "execute_result"
    }
   ],
   "source": [
    "g.number_of_edges()"
   ]
  },
  {
   "cell_type": "code",
   "execution_count": 0,
   "metadata": {
    "colab": {},
    "colab_type": "code",
    "id": "vBLtL4pTDXVW",
    "outputId": "cedb1775-7b6b-46d4-e219-69db99f10b83"
   },
   "outputs": [
    {
     "data": {
      "text/plain": [
       "0.0004330755068072584"
      ]
     },
     "execution_count": 129,
     "metadata": {
      "tags": []
     },
     "output_type": "execute_result"
    }
   ],
   "source": [
    "nx.density(g)"
   ]
  },
  {
   "cell_type": "code",
   "execution_count": 0,
   "metadata": {
    "colab": {},
    "colab_type": "code",
    "id": "aLmQXgp9DXVa",
    "outputId": "f63a69fb-c046-43c7-dd24-79ee461dd841"
   },
   "outputs": [
    {
     "data": {
      "image/png": "[encoded data removed]",
      "text/plain": [
       "<Figure size 864x864 with 1 Axes>"
      ]
     },
     "metadata": {
      "tags": []
     },
     "output_type": "display_data"
    }
   ],
   "source": [
    "plt.figure(figsize=(12,12))\n",
    "nx.draw(g,node_size=20,font_size=6)"
   ]
  },
  {
   "cell_type": "markdown",
   "metadata": {
    "colab_type": "text",
    "id": "SZ82-I2jDXVc"
   },
   "source": [
    "# Poisson Backboning on giant original_file"
   ]
  },
  {
   "cell_type": "code",
   "execution_count": 0,
   "metadata": {
    "colab": {},
    "colab_type": "code",
    "id": "4kAyQYHiDXVc"
   },
   "outputs": [],
   "source": [
    "giant = pd.read_csv('giant_comp_prep.csv')\n",
    "giant = giant.rename(columns={\"src\":\"#src\", \"trg\":\"#trg\", \"weight\":\"#weight\"})\n",
    "giant.to_csv('giant_for_network_prep.csv',index=False)"
   ]
  },
  {
   "cell_type": "code",
   "execution_count": 0,
   "metadata": {
    "colab": {},
    "colab_type": "code",
    "id": "DHHEl6EdDXVe",
    "outputId": "6c639b53-0b28-4c82-c615-9dc88b7bcc17"
   },
   "outputs": [
    {
     "data": {
      "text/html": [
       "<div>\n",
       "<style scoped>\n",
       "    .dataframe tbody tr th:only-of-type {\n",
       "        vertical-align: middle;\n",
       "    }\n",
       "\n",
       "    .dataframe tbody tr th {\n",
       "        vertical-align: top;\n",
       "    }\n",
       "\n",
       "    .dataframe thead th {\n",
       "        text-align: right;\n",
       "    }\n",
       "</style>\n",
       "<table border=\"1\" class=\"dataframe\">\n",
       "  <thead>\n",
       "    <tr style=\"text-align: right;\">\n",
       "      <th></th>\n",
       "      <th>#src</th>\n",
       "      <th>#trg</th>\n",
       "      <th>#weight</th>\n",
       "    </tr>\n",
       "  </thead>\n",
       "  <tbody>\n",
       "    <tr>\n",
       "      <th>0</th>\n",
       "      <td>coronavirus</td>\n",
       "      <td>covid19</td>\n",
       "      <td>138.0</td>\n",
       "    </tr>\n",
       "    <tr>\n",
       "      <th>1</th>\n",
       "      <td>coronavirus</td>\n",
       "      <td>covid-19</td>\n",
       "      <td>90.0</td>\n",
       "    </tr>\n",
       "    <tr>\n",
       "      <th>2</th>\n",
       "      <td>coronavirus</td>\n",
       "      <td>podcast</td>\n",
       "      <td>89.0</td>\n",
       "    </tr>\n",
       "    <tr>\n",
       "      <th>3</th>\n",
       "      <td>coronavirus</td>\n",
       "      <td>quarantine</td>\n",
       "      <td>71.0</td>\n",
       "    </tr>\n",
       "    <tr>\n",
       "      <th>4</th>\n",
       "      <td>coronavirus</td>\n",
       "      <td>corona</td>\n",
       "      <td>50.0</td>\n",
       "    </tr>\n",
       "    <tr>\n",
       "      <th>...</th>\n",
       "      <td>...</td>\n",
       "      <td>...</td>\n",
       "      <td>...</td>\n",
       "    </tr>\n",
       "    <tr>\n",
       "      <th>940695</th>\n",
       "      <td>Live It</td>\n",
       "      <td>Live It Beats</td>\n",
       "      <td>1.0</td>\n",
       "    </tr>\n",
       "    <tr>\n",
       "      <th>940696</th>\n",
       "      <td>Logística</td>\n",
       "      <td>Lojas Físicas</td>\n",
       "      <td>1.0</td>\n",
       "    </tr>\n",
       "    <tr>\n",
       "      <th>940697</th>\n",
       "      <td>Mantova</td>\n",
       "      <td>Mantua Sport Network</td>\n",
       "      <td>1.0</td>\n",
       "    </tr>\n",
       "    <tr>\n",
       "      <th>940698</th>\n",
       "      <td>Mint</td>\n",
       "      <td>Mobile</td>\n",
       "      <td>1.0</td>\n",
       "    </tr>\n",
       "    <tr>\n",
       "      <th>940699</th>\n",
       "      <td>Moog</td>\n",
       "      <td>Matriach</td>\n",
       "      <td>1.0</td>\n",
       "    </tr>\n",
       "  </tbody>\n",
       "</table>\n",
       "<p>940700 rows × 3 columns</p>\n",
       "</div>"
      ],
      "text/plain": [
       "               #src                  #trg  #weight\n",
       "0       coronavirus               covid19    138.0\n",
       "1       coronavirus              covid-19     90.0\n",
       "2       coronavirus               podcast     89.0\n",
       "3       coronavirus            quarantine     71.0\n",
       "4       coronavirus                corona     50.0\n",
       "...             ...                   ...      ...\n",
       "940695      Live It         Live It Beats      1.0\n",
       "940696    Logística         Lojas Físicas      1.0\n",
       "940697      Mantova  Mantua Sport Network      1.0\n",
       "940698         Mint                Mobile      1.0\n",
       "940699         Moog              Matriach      1.0\n",
       "\n",
       "[940700 rows x 3 columns]"
      ]
     },
     "execution_count": 88,
     "metadata": {
      "tags": []
     },
     "output_type": "execute_result"
    }
   ],
   "source": [
    "giant"
   ]
  },
  {
   "cell_type": "code",
   "execution_count": 0,
   "metadata": {
    "colab": {},
    "colab_type": "code",
    "id": "AEZ_eT-dDXVg"
   },
   "outputs": [],
   "source": [
    "g = nx.read_weighted_edgelist('giant_for_network_prep.csv',delimiter=\",\",comments='#',encoding='utf8')"
   ]
  },
  {
   "cell_type": "code",
   "execution_count": 0,
   "metadata": {
    "colab": {},
    "colab_type": "code",
    "id": "sNj9O0XlDXVl"
   },
   "outputs": [],
   "source": [
    "g_filtered = poisson_backboning.graph_backboning(g)"
   ]
  },
  {
   "cell_type": "code",
   "execution_count": 0,
   "metadata": {
    "colab": {},
    "colab_type": "code",
    "id": "6KQHy3ztDXVp",
    "outputId": "8b8c81b6-0fe6-49ad-be9b-d1eff6c1e65b"
   },
   "outputs": [
    {
     "data": {
      "text/plain": [
       "(52215, 5727)"
      ]
     },
     "execution_count": 91,
     "metadata": {
      "tags": []
     },
     "output_type": "execute_result"
    }
   ],
   "source": [
    "L = g_filtered.number_of_edges()\n",
    "N = g_filtered.number_of_nodes()\n",
    "L, N"
   ]
  },
  {
   "cell_type": "code",
   "execution_count": 0,
   "metadata": {
    "colab": {},
    "colab_type": "code",
    "id": "kzV7QoMjDXVs",
    "outputId": "862529ae-be54-48d0-dcc4-3d72835d243b"
   },
   "outputs": [
    {
     "data": {
      "text/plain": [
       "0.0031843180183942395"
      ]
     },
     "execution_count": 50,
     "metadata": {
      "tags": []
     },
     "output_type": "execute_result"
    }
   ],
   "source": [
    "nx.density(g_filtered)"
   ]
  },
  {
   "cell_type": "code",
   "execution_count": 0,
   "metadata": {
    "colab": {},
    "colab_type": "code",
    "id": "bZ7o-JsSDXVw"
   },
   "outputs": [],
   "source": [
    "comps = list(nx.connected_components(g_filtered))"
   ]
  },
  {
   "cell_type": "code",
   "execution_count": 0,
   "metadata": {
    "colab": {},
    "colab_type": "code",
    "id": "9HaXhaT0DXVy"
   },
   "outputs": [],
   "source": [
    "giant_comp = nx.subgraph(g_filtered,comps[0])"
   ]
  },
  {
   "cell_type": "markdown",
   "metadata": {
    "colab_type": "text",
    "id": "_T5YwOmIDXWE"
   },
   "source": [
    "# Backboning on original before giant"
   ]
  },
  {
   "cell_type": "code",
   "execution_count": 0,
   "metadata": {
    "colab": {},
    "colab_type": "code",
    "id": "h2lX_AqYDXWF"
   },
   "outputs": [],
   "source": [
    "data = pd.read_csv('preparation.csv')"
   ]
  },
  {
   "cell_type": "code",
   "execution_count": 0,
   "metadata": {
    "colab": {},
    "colab_type": "code",
    "id": "cZqES1m2DXWH",
    "outputId": "cd752e96-8967-4bf0-92b5-5836c332cf2e"
   },
   "outputs": [
    {
     "data": {
      "text/html": [
       "<div>\n",
       "<style scoped>\n",
       "    .dataframe tbody tr th:only-of-type {\n",
       "        vertical-align: middle;\n",
       "    }\n",
       "\n",
       "    .dataframe tbody tr th {\n",
       "        vertical-align: top;\n",
       "    }\n",
       "\n",
       "    .dataframe thead th {\n",
       "        text-align: right;\n",
       "    }\n",
       "</style>\n",
       "<table border=\"1\" class=\"dataframe\">\n",
       "  <thead>\n",
       "    <tr style=\"text-align: right;\">\n",
       "      <th></th>\n",
       "      <th>src</th>\n",
       "      <th>trg</th>\n",
       "      <th>nij</th>\n",
       "    </tr>\n",
       "  </thead>\n",
       "  <tbody>\n",
       "    <tr>\n",
       "      <th>0</th>\n",
       "      <td>coronavirus</td>\n",
       "      <td>covid19</td>\n",
       "      <td>1220.0</td>\n",
       "    </tr>\n",
       "    <tr>\n",
       "      <th>1</th>\n",
       "      <td>coronavirus</td>\n",
       "      <td>covid-19</td>\n",
       "      <td>783.0</td>\n",
       "    </tr>\n",
       "    <tr>\n",
       "      <th>2</th>\n",
       "      <td>coronavirus</td>\n",
       "      <td>podcast</td>\n",
       "      <td>686.0</td>\n",
       "    </tr>\n",
       "    <tr>\n",
       "      <th>3</th>\n",
       "      <td>Bass</td>\n",
       "      <td>Drum &amp;amp</td>\n",
       "      <td>593.0</td>\n",
       "    </tr>\n",
       "    <tr>\n",
       "      <th>4</th>\n",
       "      <td>coronavirus</td>\n",
       "      <td>quarantine</td>\n",
       "      <td>543.0</td>\n",
       "    </tr>\n",
       "    <tr>\n",
       "      <th>...</th>\n",
       "      <td>...</td>\n",
       "      <td>...</td>\n",
       "      <td>...</td>\n",
       "    </tr>\n",
       "    <tr>\n",
       "      <th>962583</th>\n",
       "      <td>Melodic</td>\n",
       "      <td>f2f</td>\n",
       "      <td>1.0</td>\n",
       "    </tr>\n",
       "    <tr>\n",
       "      <th>962584</th>\n",
       "      <td>Melodic</td>\n",
       "      <td>fabian</td>\n",
       "      <td>1.0</td>\n",
       "    </tr>\n",
       "    <tr>\n",
       "      <th>962585</th>\n",
       "      <td>Melodic</td>\n",
       "      <td>florianopolis</td>\n",
       "      <td>1.0</td>\n",
       "    </tr>\n",
       "    <tr>\n",
       "      <th>962586</th>\n",
       "      <td>Melodic</td>\n",
       "      <td>food</td>\n",
       "      <td>1.0</td>\n",
       "    </tr>\n",
       "    <tr>\n",
       "      <th>962587</th>\n",
       "      <td>Virus</td>\n",
       "      <td>podcasting</td>\n",
       "      <td>1.0</td>\n",
       "    </tr>\n",
       "  </tbody>\n",
       "</table>\n",
       "<p>962588 rows × 3 columns</p>\n",
       "</div>"
      ],
      "text/plain": [
       "                src            trg     nij\n",
       "0       coronavirus        covid19  1220.0\n",
       "1       coronavirus       covid-19   783.0\n",
       "2       coronavirus        podcast   686.0\n",
       "3              Bass      Drum &amp   593.0\n",
       "4       coronavirus     quarantine   543.0\n",
       "...             ...            ...     ...\n",
       "962583      Melodic            f2f     1.0\n",
       "962584      Melodic         fabian     1.0\n",
       "962585      Melodic  florianopolis     1.0\n",
       "962586      Melodic           food     1.0\n",
       "962587        Virus     podcasting     1.0\n",
       "\n",
       "[962588 rows x 3 columns]"
      ]
     },
     "execution_count": 61,
     "metadata": {
      "tags": []
     },
     "output_type": "execute_result"
    }
   ],
   "source": [
    "data = data.rename(columns={\"#nodo1\":\"src\",\"#nodo2\":\"trg\",\"#peso\":\"nij\"})\n",
    "data"
   ]
  },
  {
   "cell_type": "code",
   "execution_count": 0,
   "metadata": {
    "colab": {},
    "colab_type": "code",
    "id": "XLSmkA3eDXWJ"
   },
   "outputs": [],
   "source": [
    "data.to_csv('prep_for_backboning.csv',index=False)"
   ]
  },
  {
   "cell_type": "code",
   "execution_count": 0,
   "metadata": {
    "colab": {},
    "colab_type": "code",
    "id": "8bIZeiBeDXWK"
   },
   "outputs": [],
   "source": [
    "data = pd.read_csv('prep_for_backboning.csv')"
   ]
  },
  {
   "cell_type": "code",
   "execution_count": 0,
   "metadata": {
    "colab": {},
    "colab_type": "code",
    "id": "HvnGUe0cDXWN",
    "outputId": "f72f989a-4e86-4cd3-e0ec-f41bcabbd7b8"
   },
   "outputs": [
    {
     "name": "stderr",
     "output_type": "stream",
     "text": [
      "Calculating NC score...\n",
      "C:\\Users\\salva\\anaconda3\\lib\\site-packages\\pandas\\core\\computation\\expressions.py:178: UserWarning: evaluating in Python space because the '*' operator is not supported by numexpr for the bool dtype, use '&' instead\n",
      "  f\"evaluating in Python space because the {repr(op_str)} \"\n"
     ]
    }
   ],
   "source": [
    "noise_corrected = backboning.noise_corrected(data, undirected = True, return_self_loops = False, calculate_p_value = True)"
   ]
  },
  {
   "cell_type": "code",
   "execution_count": 0,
   "metadata": {
    "colab": {},
    "colab_type": "code",
    "id": "FPDqIRhGDXWQ",
    "outputId": "1fa882b7-4fe9-4659-f841-10334d2d7e67"
   },
   "outputs": [
    {
     "data": {
      "text/html": [
       "<div>\n",
       "<style scoped>\n",
       "    .dataframe tbody tr th:only-of-type {\n",
       "        vertical-align: middle;\n",
       "    }\n",
       "\n",
       "    .dataframe tbody tr th {\n",
       "        vertical-align: top;\n",
       "    }\n",
       "\n",
       "    .dataframe thead th {\n",
       "        text-align: right;\n",
       "    }\n",
       "</style>\n",
       "<table border=\"1\" class=\"dataframe\">\n",
       "  <thead>\n",
       "    <tr style=\"text-align: right;\">\n",
       "      <th></th>\n",
       "      <th>src</th>\n",
       "      <th>trg</th>\n",
       "      <th>nij</th>\n",
       "      <th>score</th>\n",
       "    </tr>\n",
       "  </thead>\n",
       "  <tbody>\n",
       "    <tr>\n",
       "      <th>0</th>\n",
       "      <td>coronavirus</td>\n",
       "      <td>covid19</td>\n",
       "      <td>1220.0</td>\n",
       "      <td>1.000000e+00</td>\n",
       "    </tr>\n",
       "    <tr>\n",
       "      <th>19478</th>\n",
       "      <td>Bass</td>\n",
       "      <td>covid19</td>\n",
       "      <td>9.0</td>\n",
       "      <td>4.268880e-12</td>\n",
       "    </tr>\n",
       "    <tr>\n",
       "      <th>24</th>\n",
       "      <td>corona</td>\n",
       "      <td>covid19</td>\n",
       "      <td>230.0</td>\n",
       "      <td>1.000000e+00</td>\n",
       "    </tr>\n",
       "    <tr>\n",
       "      <th>416</th>\n",
       "      <td>Hip Hop</td>\n",
       "      <td>covid19</td>\n",
       "      <td>117.0</td>\n",
       "      <td>9.999818e-01</td>\n",
       "    </tr>\n",
       "    <tr>\n",
       "      <th>160840</th>\n",
       "      <td>COVID-19</td>\n",
       "      <td>covid19</td>\n",
       "      <td>2.0</td>\n",
       "      <td>2.395534e-15</td>\n",
       "    </tr>\n",
       "    <tr>\n",
       "      <th>...</th>\n",
       "      <td>...</td>\n",
       "      <td>...</td>\n",
       "      <td>...</td>\n",
       "      <td>...</td>\n",
       "    </tr>\n",
       "    <tr>\n",
       "      <th>958388</th>\n",
       "      <td>Marcelo Passina</td>\n",
       "      <td>Cordoba</td>\n",
       "      <td>1.0</td>\n",
       "      <td>1.000000e+00</td>\n",
       "    </tr>\n",
       "    <tr>\n",
       "      <th>958673</th>\n",
       "      <td>Marvin Ewing</td>\n",
       "      <td>antiviral</td>\n",
       "      <td>1.0</td>\n",
       "      <td>1.000000e+00</td>\n",
       "    </tr>\n",
       "    <tr>\n",
       "      <th>959953</th>\n",
       "      <td>Mentes</td>\n",
       "      <td>carencia</td>\n",
       "      <td>1.0</td>\n",
       "      <td>1.000000e+00</td>\n",
       "    </tr>\n",
       "    <tr>\n",
       "      <th>960029</th>\n",
       "      <td>Mensaje Cristiano</td>\n",
       "      <td>Devocionales</td>\n",
       "      <td>1.0</td>\n",
       "      <td>1.000000e+00</td>\n",
       "    </tr>\n",
       "    <tr>\n",
       "      <th>960183</th>\n",
       "      <td>Michael Retzlaff</td>\n",
       "      <td>LeanSolidaritätsFonds</td>\n",
       "      <td>1.0</td>\n",
       "      <td>1.000000e+00</td>\n",
       "    </tr>\n",
       "  </tbody>\n",
       "</table>\n",
       "<p>962588 rows × 4 columns</p>\n",
       "</div>"
      ],
      "text/plain": [
       "                      src                    trg     nij         score\n",
       "0             coronavirus                covid19  1220.0  1.000000e+00\n",
       "19478                Bass                covid19     9.0  4.268880e-12\n",
       "24                 corona                covid19   230.0  1.000000e+00\n",
       "416               Hip Hop                covid19   117.0  9.999818e-01\n",
       "160840           COVID-19                covid19     2.0  2.395534e-15\n",
       "...                   ...                    ...     ...           ...\n",
       "958388    Marcelo Passina                Cordoba     1.0  1.000000e+00\n",
       "958673       Marvin Ewing              antiviral     1.0  1.000000e+00\n",
       "959953             Mentes               carencia     1.0  1.000000e+00\n",
       "960029  Mensaje Cristiano           Devocionales     1.0  1.000000e+00\n",
       "960183   Michael Retzlaff  LeanSolidaritätsFonds     1.0  1.000000e+00\n",
       "\n",
       "[962588 rows x 4 columns]"
      ]
     },
     "execution_count": 65,
     "metadata": {
      "tags": []
     },
     "output_type": "execute_result"
    }
   ],
   "source": [
    "noise_corrected"
   ]
  },
  {
   "cell_type": "code",
   "execution_count": 0,
   "metadata": {
    "colab": {},
    "colab_type": "code",
    "id": "0PNUMovtDXWS",
    "outputId": "6c59c107-d3e3-4607-886a-d9ec0e61bfd8"
   },
   "outputs": [
    {
     "data": {
      "text/html": [
       "<div>\n",
       "<style scoped>\n",
       "    .dataframe tbody tr th:only-of-type {\n",
       "        vertical-align: middle;\n",
       "    }\n",
       "\n",
       "    .dataframe tbody tr th {\n",
       "        vertical-align: top;\n",
       "    }\n",
       "\n",
       "    .dataframe thead th {\n",
       "        text-align: right;\n",
       "    }\n",
       "</style>\n",
       "<table border=\"1\" class=\"dataframe\">\n",
       "  <thead>\n",
       "    <tr style=\"text-align: right;\">\n",
       "      <th></th>\n",
       "      <th>src</th>\n",
       "      <th>trg</th>\n",
       "      <th>nij</th>\n",
       "      <th>score</th>\n",
       "    </tr>\n",
       "  </thead>\n",
       "  <tbody>\n",
       "    <tr>\n",
       "      <th>0</th>\n",
       "      <td>coronavirus</td>\n",
       "      <td>covid19</td>\n",
       "      <td>1220.0</td>\n",
       "      <td>1.000000</td>\n",
       "    </tr>\n",
       "    <tr>\n",
       "      <th>24</th>\n",
       "      <td>corona</td>\n",
       "      <td>covid19</td>\n",
       "      <td>230.0</td>\n",
       "      <td>1.000000</td>\n",
       "    </tr>\n",
       "    <tr>\n",
       "      <th>416</th>\n",
       "      <td>Hip Hop</td>\n",
       "      <td>covid19</td>\n",
       "      <td>117.0</td>\n",
       "      <td>0.999982</td>\n",
       "    </tr>\n",
       "    <tr>\n",
       "      <th>18</th>\n",
       "      <td>covid-19</td>\n",
       "      <td>covid19</td>\n",
       "      <td>265.0</td>\n",
       "      <td>1.000000</td>\n",
       "    </tr>\n",
       "    <tr>\n",
       "      <th>804</th>\n",
       "      <td>Rap</td>\n",
       "      <td>covid19</td>\n",
       "      <td>56.0</td>\n",
       "      <td>1.000000</td>\n",
       "    </tr>\n",
       "    <tr>\n",
       "      <th>...</th>\n",
       "      <td>...</td>\n",
       "      <td>...</td>\n",
       "      <td>...</td>\n",
       "      <td>...</td>\n",
       "    </tr>\n",
       "    <tr>\n",
       "      <th>958388</th>\n",
       "      <td>Marcelo Passina</td>\n",
       "      <td>Cordoba</td>\n",
       "      <td>1.0</td>\n",
       "      <td>1.000000</td>\n",
       "    </tr>\n",
       "    <tr>\n",
       "      <th>958673</th>\n",
       "      <td>Marvin Ewing</td>\n",
       "      <td>antiviral</td>\n",
       "      <td>1.0</td>\n",
       "      <td>1.000000</td>\n",
       "    </tr>\n",
       "    <tr>\n",
       "      <th>959953</th>\n",
       "      <td>Mentes</td>\n",
       "      <td>carencia</td>\n",
       "      <td>1.0</td>\n",
       "      <td>1.000000</td>\n",
       "    </tr>\n",
       "    <tr>\n",
       "      <th>960029</th>\n",
       "      <td>Mensaje Cristiano</td>\n",
       "      <td>Devocionales</td>\n",
       "      <td>1.0</td>\n",
       "      <td>1.000000</td>\n",
       "    </tr>\n",
       "    <tr>\n",
       "      <th>960183</th>\n",
       "      <td>Michael Retzlaff</td>\n",
       "      <td>LeanSolidaritätsFonds</td>\n",
       "      <td>1.0</td>\n",
       "      <td>1.000000</td>\n",
       "    </tr>\n",
       "  </tbody>\n",
       "</table>\n",
       "<p>921819 rows × 4 columns</p>\n",
       "</div>"
      ],
      "text/plain": [
       "                      src                    trg     nij     score\n",
       "0             coronavirus                covid19  1220.0  1.000000\n",
       "24                 corona                covid19   230.0  1.000000\n",
       "416               Hip Hop                covid19   117.0  0.999982\n",
       "18               covid-19                covid19   265.0  1.000000\n",
       "804                   Rap                covid19    56.0  1.000000\n",
       "...                   ...                    ...     ...       ...\n",
       "958388    Marcelo Passina                Cordoba     1.0  1.000000\n",
       "958673       Marvin Ewing              antiviral     1.0  1.000000\n",
       "959953             Mentes               carencia     1.0  1.000000\n",
       "960029  Mensaje Cristiano           Devocionales     1.0  1.000000\n",
       "960183   Michael Retzlaff  LeanSolidaritätsFonds     1.0  1.000000\n",
       "\n",
       "[921819 rows x 4 columns]"
      ]
     },
     "execution_count": 66,
     "metadata": {
      "tags": []
     },
     "output_type": "execute_result"
    }
   ],
   "source": [
    "thresholding = backboning.thresholding(noise_corrected, threshold=0.95)\n",
    "thresholding"
   ]
  },
  {
   "cell_type": "code",
   "execution_count": 0,
   "metadata": {
    "colab": {},
    "colab_type": "code",
    "id": "C_02kAPrDXWU",
    "outputId": "c995501b-3cd5-4bb5-86dc-13dbe4a67bc1"
   },
   "outputs": [
    {
     "data": {
      "text/html": [
       "<div>\n",
       "<style scoped>\n",
       "    .dataframe tbody tr th:only-of-type {\n",
       "        vertical-align: middle;\n",
       "    }\n",
       "\n",
       "    .dataframe tbody tr th {\n",
       "        vertical-align: top;\n",
       "    }\n",
       "\n",
       "    .dataframe thead th {\n",
       "        text-align: right;\n",
       "    }\n",
       "</style>\n",
       "<table border=\"1\" class=\"dataframe\">\n",
       "  <thead>\n",
       "    <tr style=\"text-align: right;\">\n",
       "      <th></th>\n",
       "      <th>#src</th>\n",
       "      <th>#trg</th>\n",
       "      <th>#nij</th>\n",
       "    </tr>\n",
       "  </thead>\n",
       "  <tbody>\n",
       "    <tr>\n",
       "      <th>0</th>\n",
       "      <td>coronavirus</td>\n",
       "      <td>covid19</td>\n",
       "      <td>1220.0</td>\n",
       "    </tr>\n",
       "    <tr>\n",
       "      <th>24</th>\n",
       "      <td>corona</td>\n",
       "      <td>covid19</td>\n",
       "      <td>230.0</td>\n",
       "    </tr>\n",
       "    <tr>\n",
       "      <th>416</th>\n",
       "      <td>Hip Hop</td>\n",
       "      <td>covid19</td>\n",
       "      <td>117.0</td>\n",
       "    </tr>\n",
       "    <tr>\n",
       "      <th>18</th>\n",
       "      <td>covid-19</td>\n",
       "      <td>covid19</td>\n",
       "      <td>265.0</td>\n",
       "    </tr>\n",
       "    <tr>\n",
       "      <th>804</th>\n",
       "      <td>Rap</td>\n",
       "      <td>covid19</td>\n",
       "      <td>56.0</td>\n",
       "    </tr>\n",
       "    <tr>\n",
       "      <th>...</th>\n",
       "      <td>...</td>\n",
       "      <td>...</td>\n",
       "      <td>...</td>\n",
       "    </tr>\n",
       "    <tr>\n",
       "      <th>958388</th>\n",
       "      <td>Marcelo Passina</td>\n",
       "      <td>Cordoba</td>\n",
       "      <td>1.0</td>\n",
       "    </tr>\n",
       "    <tr>\n",
       "      <th>958673</th>\n",
       "      <td>Marvin Ewing</td>\n",
       "      <td>antiviral</td>\n",
       "      <td>1.0</td>\n",
       "    </tr>\n",
       "    <tr>\n",
       "      <th>959953</th>\n",
       "      <td>Mentes</td>\n",
       "      <td>carencia</td>\n",
       "      <td>1.0</td>\n",
       "    </tr>\n",
       "    <tr>\n",
       "      <th>960029</th>\n",
       "      <td>Mensaje Cristiano</td>\n",
       "      <td>Devocionales</td>\n",
       "      <td>1.0</td>\n",
       "    </tr>\n",
       "    <tr>\n",
       "      <th>960183</th>\n",
       "      <td>Michael Retzlaff</td>\n",
       "      <td>LeanSolidaritätsFonds</td>\n",
       "      <td>1.0</td>\n",
       "    </tr>\n",
       "  </tbody>\n",
       "</table>\n",
       "<p>921819 rows × 3 columns</p>\n",
       "</div>"
      ],
      "text/plain": [
       "                     #src                   #trg    #nij\n",
       "0             coronavirus                covid19  1220.0\n",
       "24                 corona                covid19   230.0\n",
       "416               Hip Hop                covid19   117.0\n",
       "18               covid-19                covid19   265.0\n",
       "804                   Rap                covid19    56.0\n",
       "...                   ...                    ...     ...\n",
       "958388    Marcelo Passina                Cordoba     1.0\n",
       "958673       Marvin Ewing              antiviral     1.0\n",
       "959953             Mentes               carencia     1.0\n",
       "960029  Mensaje Cristiano           Devocionales     1.0\n",
       "960183   Michael Retzlaff  LeanSolidaritätsFonds     1.0\n",
       "\n",
       "[921819 rows x 3 columns]"
      ]
     },
     "execution_count": 67,
     "metadata": {
      "tags": []
     },
     "output_type": "execute_result"
    }
   ],
   "source": [
    "renamed = thresholding.rename(columns={\"src\":\"#src\",\"trg\":\"#trg\",\"nij\":\"#nij\"})\n",
    "renamed = renamed[['#src','#trg','#nij']]\n",
    "renamed"
   ]
  },
  {
   "cell_type": "code",
   "execution_count": 0,
   "metadata": {
    "colab": {},
    "colab_type": "code",
    "id": "Q0vjVRtrDXWW"
   },
   "outputs": [],
   "source": [
    "renamed.to_csv('renamed_to_giant_prep.csv',index=False)"
   ]
  },
  {
   "cell_type": "code",
   "execution_count": 0,
   "metadata": {
    "colab": {},
    "colab_type": "code",
    "id": "0d0RDbt2DXWY"
   },
   "outputs": [],
   "source": [
    "g = nx.read_weighted_edgelist('renamed_to_giant_prep.csv',delimiter=\",\",comments='#',encoding='utf8')"
   ]
  },
  {
   "cell_type": "code",
   "execution_count": 0,
   "metadata": {
    "colab": {},
    "colab_type": "code",
    "id": "a87K0LsnDXWZ"
   },
   "outputs": [],
   "source": [
    "comps = list(nx.connected_components(g))"
   ]
  },
  {
   "cell_type": "code",
   "execution_count": 0,
   "metadata": {
    "colab": {},
    "colab_type": "code",
    "id": "gUr-8EKbDXWd"
   },
   "outputs": [],
   "source": [
    "giant_comp = nx.subgraph(g,comps[0])"
   ]
  },
  {
   "cell_type": "code",
   "execution_count": 0,
   "metadata": {
    "colab": {},
    "colab_type": "code",
    "id": "jBkMDqbHDXWf",
    "outputId": "5d64c898-f054-44d3-dff1-2f231c50703a"
   },
   "outputs": [
    {
     "data": {
      "text/plain": [
       "59279"
      ]
     },
     "execution_count": 72,
     "metadata": {
      "tags": []
     },
     "output_type": "execute_result"
    }
   ],
   "source": [
    "giant_comp.number_of_nodes()"
   ]
  },
  {
   "cell_type": "code",
   "execution_count": 0,
   "metadata": {
    "colab": {},
    "colab_type": "code",
    "id": "72bdqYrIDXWh",
    "outputId": "7e9a7fb1-963a-49a2-9f45-6bde3b4db2ab"
   },
   "outputs": [
    {
     "data": {
      "text/plain": [
       "906799"
      ]
     },
     "execution_count": 73,
     "metadata": {
      "tags": []
     },
     "output_type": "execute_result"
    }
   ],
   "source": [
    "giant_comp.number_of_edges()"
   ]
  },
  {
   "cell_type": "code",
   "execution_count": 0,
   "metadata": {
    "colab": {},
    "colab_type": "code",
    "id": "7KWlbzMSDXWj",
    "outputId": "17c5ecd1-2871-4be4-c090-0a4548cfcc35"
   },
   "outputs": [
    {
     "data": {
      "text/plain": [
       "0.0005161151613127371"
      ]
     },
     "execution_count": 74,
     "metadata": {
      "tags": []
     },
     "output_type": "execute_result"
    }
   ],
   "source": [
    "nx.density(giant_comp)"
   ]
  },
  {
   "cell_type": "code",
   "execution_count": 0,
   "metadata": {
    "colab": {},
    "colab_type": "code",
    "id": "iDSDarWTDXWk"
   },
   "outputs": [],
   "source": [
    "#plt.figure(figsize=(12,12))\n",
    "#nx.draw(giant_comp,node_size=60,font_size=8)"
   ]
  },
  {
   "cell_type": "markdown",
   "metadata": {
    "colab_type": "text",
    "id": "HnZTBNXGDXWm"
   },
   "source": [
    "# Backboning on dropped before giant"
   ]
  },
  {
   "cell_type": "code",
   "execution_count": 0,
   "metadata": {
    "colab": {},
    "colab_type": "code",
    "id": "MB7xgILjDXWm"
   },
   "outputs": [],
   "source": [
    "data = pd.read_csv('real_net.csv')"
   ]
  },
  {
   "cell_type": "code",
   "execution_count": 0,
   "metadata": {
    "colab": {},
    "colab_type": "code",
    "id": "9CmrhlDHDXWo",
    "outputId": "c879602e-9f96-46c5-eb62-16415a6de014"
   },
   "outputs": [
    {
     "data": {
      "text/html": [
       "<div>\n",
       "<style scoped>\n",
       "    .dataframe tbody tr th:only-of-type {\n",
       "        vertical-align: middle;\n",
       "    }\n",
       "\n",
       "    .dataframe tbody tr th {\n",
       "        vertical-align: top;\n",
       "    }\n",
       "\n",
       "    .dataframe thead th {\n",
       "        text-align: right;\n",
       "    }\n",
       "</style>\n",
       "<table border=\"1\" class=\"dataframe\">\n",
       "  <thead>\n",
       "    <tr style=\"text-align: right;\">\n",
       "      <th></th>\n",
       "      <th>#nodo1</th>\n",
       "      <th>#nodo2</th>\n",
       "      <th>#peso</th>\n",
       "    </tr>\n",
       "  </thead>\n",
       "  <tbody>\n",
       "    <tr>\n",
       "      <th>6</th>\n",
       "      <td>Hip Hop</td>\n",
       "      <td>rap</td>\n",
       "      <td>395.0</td>\n",
       "    </tr>\n",
       "    <tr>\n",
       "      <th>7</th>\n",
       "      <td>Hip Hop</td>\n",
       "      <td>Rap</td>\n",
       "      <td>359.0</td>\n",
       "    </tr>\n",
       "    <tr>\n",
       "      <th>15</th>\n",
       "      <td>rap</td>\n",
       "      <td>trap</td>\n",
       "      <td>274.0</td>\n",
       "    </tr>\n",
       "    <tr>\n",
       "      <th>21</th>\n",
       "      <td>Deep House</td>\n",
       "      <td>House</td>\n",
       "      <td>254.0</td>\n",
       "    </tr>\n",
       "    <tr>\n",
       "      <th>24</th>\n",
       "      <td>Hip Hop</td>\n",
       "      <td>Trap</td>\n",
       "      <td>228.0</td>\n",
       "    </tr>\n",
       "    <tr>\n",
       "      <th>...</th>\n",
       "      <td>...</td>\n",
       "      <td>...</td>\n",
       "      <td>...</td>\n",
       "    </tr>\n",
       "    <tr>\n",
       "      <th>952923</th>\n",
       "      <td>Membership</td>\n",
       "      <td>Montgomery County</td>\n",
       "      <td>1.0</td>\n",
       "    </tr>\n",
       "    <tr>\n",
       "      <th>952924</th>\n",
       "      <td>Membership</td>\n",
       "      <td>Small Business</td>\n",
       "      <td>1.0</td>\n",
       "    </tr>\n",
       "    <tr>\n",
       "      <th>952925</th>\n",
       "      <td>Membership</td>\n",
       "      <td>Terri Sewell</td>\n",
       "      <td>1.0</td>\n",
       "    </tr>\n",
       "    <tr>\n",
       "      <th>952926</th>\n",
       "      <td>Meme</td>\n",
       "      <td>Money</td>\n",
       "      <td>1.0</td>\n",
       "    </tr>\n",
       "    <tr>\n",
       "      <th>952927</th>\n",
       "      <td>Vocal</td>\n",
       "      <td>pandemic</td>\n",
       "      <td>1.0</td>\n",
       "    </tr>\n",
       "  </tbody>\n",
       "</table>\n",
       "<p>848926 rows × 3 columns</p>\n",
       "</div>"
      ],
      "text/plain": [
       "            #nodo1             #nodo2  #peso\n",
       "6          Hip Hop                rap  395.0\n",
       "7          Hip Hop                Rap  359.0\n",
       "15             rap               trap  274.0\n",
       "21      Deep House              House  254.0\n",
       "24         Hip Hop               Trap  228.0\n",
       "...            ...                ...    ...\n",
       "952923  Membership  Montgomery County    1.0\n",
       "952924  Membership     Small Business    1.0\n",
       "952925  Membership       Terri Sewell    1.0\n",
       "952926        Meme              Money    1.0\n",
       "952927       Vocal           pandemic    1.0\n",
       "\n",
       "[848926 rows x 3 columns]"
      ]
     },
     "execution_count": 93,
     "metadata": {
      "tags": []
     },
     "output_type": "execute_result"
    }
   ],
   "source": [
    "str_to_drop = ['coronavirus', 'covid','lockdown','quarantine','Coronavirus','CORONAVIRUS','COVID','Covid','Lockdown','LOCKDOWN','Quarantine','QUARANTINE']\n",
    "dropped_nodo1 = data[~data['#nodo1'].str.contains('|'.join(str_to_drop))]\n",
    "dropped_nodo2 = dropped_nodo1[~dropped_nodo1['#nodo2'].str.contains('|'.join(str_to_drop))]\n",
    "dropped_nodo2"
   ]
  },
  {
   "cell_type": "code",
   "execution_count": 0,
   "metadata": {
    "colab": {},
    "colab_type": "code",
    "id": "kKb1dOxFDXWs",
    "outputId": "1f78ddb9-9bb7-4f7c-ff87-05a07eee8a3e"
   },
   "outputs": [
    {
     "data": {
      "text/html": [
       "<div>\n",
       "<style scoped>\n",
       "    .dataframe tbody tr th:only-of-type {\n",
       "        vertical-align: middle;\n",
       "    }\n",
       "\n",
       "    .dataframe tbody tr th {\n",
       "        vertical-align: top;\n",
       "    }\n",
       "\n",
       "    .dataframe thead th {\n",
       "        text-align: right;\n",
       "    }\n",
       "</style>\n",
       "<table border=\"1\" class=\"dataframe\">\n",
       "  <thead>\n",
       "    <tr style=\"text-align: right;\">\n",
       "      <th></th>\n",
       "      <th>src</th>\n",
       "      <th>trg</th>\n",
       "      <th>nij</th>\n",
       "    </tr>\n",
       "  </thead>\n",
       "  <tbody>\n",
       "    <tr>\n",
       "      <th>6</th>\n",
       "      <td>Hip Hop</td>\n",
       "      <td>rap</td>\n",
       "      <td>395.0</td>\n",
       "    </tr>\n",
       "    <tr>\n",
       "      <th>7</th>\n",
       "      <td>Hip Hop</td>\n",
       "      <td>Rap</td>\n",
       "      <td>359.0</td>\n",
       "    </tr>\n",
       "    <tr>\n",
       "      <th>15</th>\n",
       "      <td>rap</td>\n",
       "      <td>trap</td>\n",
       "      <td>274.0</td>\n",
       "    </tr>\n",
       "    <tr>\n",
       "      <th>21</th>\n",
       "      <td>Deep House</td>\n",
       "      <td>House</td>\n",
       "      <td>254.0</td>\n",
       "    </tr>\n",
       "    <tr>\n",
       "      <th>24</th>\n",
       "      <td>Hip Hop</td>\n",
       "      <td>Trap</td>\n",
       "      <td>228.0</td>\n",
       "    </tr>\n",
       "    <tr>\n",
       "      <th>...</th>\n",
       "      <td>...</td>\n",
       "      <td>...</td>\n",
       "      <td>...</td>\n",
       "    </tr>\n",
       "    <tr>\n",
       "      <th>952923</th>\n",
       "      <td>Membership</td>\n",
       "      <td>Montgomery County</td>\n",
       "      <td>1.0</td>\n",
       "    </tr>\n",
       "    <tr>\n",
       "      <th>952924</th>\n",
       "      <td>Membership</td>\n",
       "      <td>Small Business</td>\n",
       "      <td>1.0</td>\n",
       "    </tr>\n",
       "    <tr>\n",
       "      <th>952925</th>\n",
       "      <td>Membership</td>\n",
       "      <td>Terri Sewell</td>\n",
       "      <td>1.0</td>\n",
       "    </tr>\n",
       "    <tr>\n",
       "      <th>952926</th>\n",
       "      <td>Meme</td>\n",
       "      <td>Money</td>\n",
       "      <td>1.0</td>\n",
       "    </tr>\n",
       "    <tr>\n",
       "      <th>952927</th>\n",
       "      <td>Vocal</td>\n",
       "      <td>pandemic</td>\n",
       "      <td>1.0</td>\n",
       "    </tr>\n",
       "  </tbody>\n",
       "</table>\n",
       "<p>848926 rows × 3 columns</p>\n",
       "</div>"
      ],
      "text/plain": [
       "               src                trg    nij\n",
       "6          Hip Hop                rap  395.0\n",
       "7          Hip Hop                Rap  359.0\n",
       "15             rap               trap  274.0\n",
       "21      Deep House              House  254.0\n",
       "24         Hip Hop               Trap  228.0\n",
       "...            ...                ...    ...\n",
       "952923  Membership  Montgomery County    1.0\n",
       "952924  Membership     Small Business    1.0\n",
       "952925  Membership       Terri Sewell    1.0\n",
       "952926        Meme              Money    1.0\n",
       "952927       Vocal           pandemic    1.0\n",
       "\n",
       "[848926 rows x 3 columns]"
      ]
     },
     "execution_count": 95,
     "metadata": {
      "tags": []
     },
     "output_type": "execute_result"
    }
   ],
   "source": [
    "dropped_nodo2 = dropped_nodo2.rename(columns={\"#nodo1\":\"src\",\"#nodo2\":\"trg\",\"#peso\":\"nij\"})\n",
    "dropped_nodo2"
   ]
  },
  {
   "cell_type": "code",
   "execution_count": 0,
   "metadata": {
    "colab": {},
    "colab_type": "code",
    "id": "B5rorBf0DXWu"
   },
   "outputs": [],
   "source": [
    "dropped_nodo2.to_csv('dropped_for_backboning_prep.csv',index=False)"
   ]
  },
  {
   "cell_type": "code",
   "execution_count": 0,
   "metadata": {
    "colab": {},
    "colab_type": "code",
    "id": "OJnjhnusDXWw",
    "outputId": "74a08e4f-acf8-4a19-e330-1dea01be319a"
   },
   "outputs": [
    {
     "name": "stderr",
     "output_type": "stream",
     "text": [
      "Calculating NC score...\n",
      "C:\\Users\\salva\\anaconda3\\lib\\site-packages\\pandas\\core\\computation\\expressions.py:178: UserWarning: evaluating in Python space because the '*' operator is not supported by numexpr for the bool dtype, use '&' instead\n",
      "  f\"evaluating in Python space because the {repr(op_str)} \"\n"
     ]
    }
   ],
   "source": [
    "noise_corrected = backboning.noise_corrected(dropped_nodo2, undirected = True, return_self_loops = False, calculate_p_value = True)"
   ]
  },
  {
   "cell_type": "code",
   "execution_count": 0,
   "metadata": {
    "colab": {},
    "colab_type": "code",
    "id": "HG-6VmgiDXWx",
    "outputId": "3da1f5ef-5248-41f2-a82b-123b3662eea8"
   },
   "outputs": [
    {
     "data": {
      "text/html": [
       "<div>\n",
       "<style scoped>\n",
       "    .dataframe tbody tr th:only-of-type {\n",
       "        vertical-align: middle;\n",
       "    }\n",
       "\n",
       "    .dataframe tbody tr th {\n",
       "        vertical-align: top;\n",
       "    }\n",
       "\n",
       "    .dataframe thead th {\n",
       "        text-align: right;\n",
       "    }\n",
       "</style>\n",
       "<table border=\"1\" class=\"dataframe\">\n",
       "  <thead>\n",
       "    <tr style=\"text-align: right;\">\n",
       "      <th></th>\n",
       "      <th>src</th>\n",
       "      <th>trg</th>\n",
       "      <th>nij</th>\n",
       "      <th>score</th>\n",
       "    </tr>\n",
       "  </thead>\n",
       "  <tbody>\n",
       "    <tr>\n",
       "      <th>6</th>\n",
       "      <td>Hip Hop</td>\n",
       "      <td>rap</td>\n",
       "      <td>395.0</td>\n",
       "      <td>1.000000</td>\n",
       "    </tr>\n",
       "    <tr>\n",
       "      <th>2434</th>\n",
       "      <td>rap</td>\n",
       "      <td>rap</td>\n",
       "      <td>35.0</td>\n",
       "      <td>0.999987</td>\n",
       "    </tr>\n",
       "    <tr>\n",
       "      <th>399</th>\n",
       "      <td>corona</td>\n",
       "      <td>rap</td>\n",
       "      <td>125.0</td>\n",
       "      <td>1.000000</td>\n",
       "    </tr>\n",
       "    <tr>\n",
       "      <th>366</th>\n",
       "      <td>beat</td>\n",
       "      <td>rap</td>\n",
       "      <td>171.0</td>\n",
       "      <td>1.000000</td>\n",
       "    </tr>\n",
       "    <tr>\n",
       "      <th>418</th>\n",
       "      <td>2020</td>\n",
       "      <td>rap</td>\n",
       "      <td>112.0</td>\n",
       "      <td>1.000000</td>\n",
       "    </tr>\n",
       "    <tr>\n",
       "      <th>...</th>\n",
       "      <td>...</td>\n",
       "      <td>...</td>\n",
       "      <td>...</td>\n",
       "      <td>...</td>\n",
       "    </tr>\n",
       "    <tr>\n",
       "      <th>949229</th>\n",
       "      <td>Marvin Ewing</td>\n",
       "      <td>antiviral</td>\n",
       "      <td>1.0</td>\n",
       "      <td>1.000000</td>\n",
       "    </tr>\n",
       "    <tr>\n",
       "      <th>949916</th>\n",
       "      <td>Michael Retzlaff</td>\n",
       "      <td>LeanSolidaritätsFonds</td>\n",
       "      <td>1.0</td>\n",
       "      <td>1.000000</td>\n",
       "    </tr>\n",
       "    <tr>\n",
       "      <th>951042</th>\n",
       "      <td>Michelle-Smith</td>\n",
       "      <td>Source-Financial-Advisors</td>\n",
       "      <td>1.0</td>\n",
       "      <td>1.000000</td>\n",
       "    </tr>\n",
       "    <tr>\n",
       "      <th>952158</th>\n",
       "      <td>Mentes</td>\n",
       "      <td>carencia</td>\n",
       "      <td>1.0</td>\n",
       "      <td>1.000000</td>\n",
       "    </tr>\n",
       "    <tr>\n",
       "      <th>952213</th>\n",
       "      <td>Mensaje Cristiano</td>\n",
       "      <td>Devocionales</td>\n",
       "      <td>1.0</td>\n",
       "      <td>1.000000</td>\n",
       "    </tr>\n",
       "  </tbody>\n",
       "</table>\n",
       "<p>824632 rows × 4 columns</p>\n",
       "</div>"
      ],
      "text/plain": [
       "                      src                        trg    nij     score\n",
       "6                 Hip Hop                        rap  395.0  1.000000\n",
       "2434                  rap                        rap   35.0  0.999987\n",
       "399                corona                        rap  125.0  1.000000\n",
       "366                  beat                        rap  171.0  1.000000\n",
       "418                  2020                        rap  112.0  1.000000\n",
       "...                   ...                        ...    ...       ...\n",
       "949229       Marvin Ewing                  antiviral    1.0  1.000000\n",
       "949916   Michael Retzlaff      LeanSolidaritätsFonds    1.0  1.000000\n",
       "951042     Michelle-Smith  Source-Financial-Advisors    1.0  1.000000\n",
       "952158             Mentes                   carencia    1.0  1.000000\n",
       "952213  Mensaje Cristiano               Devocionales    1.0  1.000000\n",
       "\n",
       "[824632 rows x 4 columns]"
      ]
     },
     "execution_count": 98,
     "metadata": {
      "tags": []
     },
     "output_type": "execute_result"
    }
   ],
   "source": [
    "thresholding = backboning.thresholding(noise_corrected, threshold=0.95)\n",
    "thresholding"
   ]
  },
  {
   "cell_type": "code",
   "execution_count": 0,
   "metadata": {
    "colab": {},
    "colab_type": "code",
    "id": "ig4s2i3DDXWz",
    "outputId": "0b0cf989-cbe2-4c7a-acf1-cdc2c606c20c"
   },
   "outputs": [
    {
     "data": {
      "text/html": [
       "<div>\n",
       "<style scoped>\n",
       "    .dataframe tbody tr th:only-of-type {\n",
       "        vertical-align: middle;\n",
       "    }\n",
       "\n",
       "    .dataframe tbody tr th {\n",
       "        vertical-align: top;\n",
       "    }\n",
       "\n",
       "    .dataframe thead th {\n",
       "        text-align: right;\n",
       "    }\n",
       "</style>\n",
       "<table border=\"1\" class=\"dataframe\">\n",
       "  <thead>\n",
       "    <tr style=\"text-align: right;\">\n",
       "      <th></th>\n",
       "      <th>#src</th>\n",
       "      <th>#trg</th>\n",
       "      <th>#nij</th>\n",
       "    </tr>\n",
       "  </thead>\n",
       "  <tbody>\n",
       "    <tr>\n",
       "      <th>6</th>\n",
       "      <td>Hip Hop</td>\n",
       "      <td>rap</td>\n",
       "      <td>395.0</td>\n",
       "    </tr>\n",
       "    <tr>\n",
       "      <th>2434</th>\n",
       "      <td>rap</td>\n",
       "      <td>rap</td>\n",
       "      <td>35.0</td>\n",
       "    </tr>\n",
       "    <tr>\n",
       "      <th>399</th>\n",
       "      <td>corona</td>\n",
       "      <td>rap</td>\n",
       "      <td>125.0</td>\n",
       "    </tr>\n",
       "    <tr>\n",
       "      <th>366</th>\n",
       "      <td>beat</td>\n",
       "      <td>rap</td>\n",
       "      <td>171.0</td>\n",
       "    </tr>\n",
       "    <tr>\n",
       "      <th>418</th>\n",
       "      <td>2020</td>\n",
       "      <td>rap</td>\n",
       "      <td>112.0</td>\n",
       "    </tr>\n",
       "    <tr>\n",
       "      <th>...</th>\n",
       "      <td>...</td>\n",
       "      <td>...</td>\n",
       "      <td>...</td>\n",
       "    </tr>\n",
       "    <tr>\n",
       "      <th>949229</th>\n",
       "      <td>Marvin Ewing</td>\n",
       "      <td>antiviral</td>\n",
       "      <td>1.0</td>\n",
       "    </tr>\n",
       "    <tr>\n",
       "      <th>949916</th>\n",
       "      <td>Michael Retzlaff</td>\n",
       "      <td>LeanSolidaritätsFonds</td>\n",
       "      <td>1.0</td>\n",
       "    </tr>\n",
       "    <tr>\n",
       "      <th>951042</th>\n",
       "      <td>Michelle-Smith</td>\n",
       "      <td>Source-Financial-Advisors</td>\n",
       "      <td>1.0</td>\n",
       "    </tr>\n",
       "    <tr>\n",
       "      <th>952158</th>\n",
       "      <td>Mentes</td>\n",
       "      <td>carencia</td>\n",
       "      <td>1.0</td>\n",
       "    </tr>\n",
       "    <tr>\n",
       "      <th>952213</th>\n",
       "      <td>Mensaje Cristiano</td>\n",
       "      <td>Devocionales</td>\n",
       "      <td>1.0</td>\n",
       "    </tr>\n",
       "  </tbody>\n",
       "</table>\n",
       "<p>824632 rows × 3 columns</p>\n",
       "</div>"
      ],
      "text/plain": [
       "                     #src                       #trg   #nij\n",
       "6                 Hip Hop                        rap  395.0\n",
       "2434                  rap                        rap   35.0\n",
       "399                corona                        rap  125.0\n",
       "366                  beat                        rap  171.0\n",
       "418                  2020                        rap  112.0\n",
       "...                   ...                        ...    ...\n",
       "949229       Marvin Ewing                  antiviral    1.0\n",
       "949916   Michael Retzlaff      LeanSolidaritätsFonds    1.0\n",
       "951042     Michelle-Smith  Source-Financial-Advisors    1.0\n",
       "952158             Mentes                   carencia    1.0\n",
       "952213  Mensaje Cristiano               Devocionales    1.0\n",
       "\n",
       "[824632 rows x 3 columns]"
      ]
     },
     "execution_count": 99,
     "metadata": {
      "tags": []
     },
     "output_type": "execute_result"
    }
   ],
   "source": [
    "renamed = thresholding.rename(columns={\"src\":\"#src\",\"trg\":\"#trg\",\"nij\":\"#nij\"})\n",
    "renamed = renamed[['#src','#trg','#nij']]\n",
    "renamed"
   ]
  },
  {
   "cell_type": "code",
   "execution_count": 0,
   "metadata": {
    "colab": {},
    "colab_type": "code",
    "id": "Y-P--jrSDXW1"
   },
   "outputs": [],
   "source": [
    "renamed.to_csv('renamed_dropped_to_giant_prep.csv',index=False)"
   ]
  },
  {
   "cell_type": "code",
   "execution_count": 0,
   "metadata": {
    "colab": {},
    "colab_type": "code",
    "id": "veaAAKuyDXW2"
   },
   "outputs": [],
   "source": [
    "g = nx.read_weighted_edgelist('renamed_dropped_to_giant_prep.csv',delimiter=\",\",comments='#',encoding='utf8')"
   ]
  },
  {
   "cell_type": "code",
   "execution_count": 0,
   "metadata": {
    "colab": {},
    "colab_type": "code",
    "id": "dLvqUdboDXW4"
   },
   "outputs": [],
   "source": [
    "comps = list(nx.connected_components(g))"
   ]
  },
  {
   "cell_type": "code",
   "execution_count": 0,
   "metadata": {
    "colab": {},
    "colab_type": "code",
    "id": "dKITUHAsDXW6"
   },
   "outputs": [],
   "source": [
    "giant_comp = nx.subgraph(g,comps[0])"
   ]
  },
  {
   "cell_type": "code",
   "execution_count": 0,
   "metadata": {
    "colab": {},
    "colab_type": "code",
    "id": "eza-emYnDXW7",
    "outputId": "dc4b7b52-7b6f-4e94-b778-22af379a0c48"
   },
   "outputs": [
    {
     "data": {
      "text/plain": [
       "56868"
      ]
     },
     "execution_count": 104,
     "metadata": {
      "tags": []
     },
     "output_type": "execute_result"
    }
   ],
   "source": [
    "giant_comp.number_of_nodes()"
   ]
  },
  {
   "cell_type": "code",
   "execution_count": 0,
   "metadata": {
    "colab": {},
    "colab_type": "code",
    "id": "vZqHfNATDXW9",
    "outputId": "55f10b16-8c0d-4bb5-86b1-28e5f1d4b7cc"
   },
   "outputs": [
    {
     "data": {
      "text/plain": [
       "808925"
      ]
     },
     "execution_count": 105,
     "metadata": {
      "tags": []
     },
     "output_type": "execute_result"
    }
   ],
   "source": [
    "giant_comp.number_of_edges()"
   ]
  },
  {
   "cell_type": "code",
   "execution_count": 0,
   "metadata": {
    "colab": {},
    "colab_type": "code",
    "id": "ObCRwG9oDXW_",
    "outputId": "21c13dae-7521-4e9c-d652-b16fadaf516b"
   },
   "outputs": [
    {
     "data": {
      "text/plain": [
       "0.000500276359358679"
      ]
     },
     "execution_count": 106,
     "metadata": {
      "tags": []
     },
     "output_type": "execute_result"
    }
   ],
   "source": [
    "nx.density(giant_comp)"
   ]
  },
  {
   "cell_type": "code",
   "execution_count": 0,
   "metadata": {
    "colab": {},
    "colab_type": "code",
    "id": "fhUKtIDtDXXA"
   },
   "outputs": [],
   "source": [
    "#plt.figure(figsize=(12,12))\n",
    "#nx.draw(giant_comp,node_size=60,font_size=8)"
   ]
  },
  {
   "cell_type": "markdown",
   "metadata": {
    "colab_type": "text",
    "id": "J5-DjqlKDXXD"
   },
   "source": [
    "# Poisson backboning on original before giant"
   ]
  },
  {
   "cell_type": "code",
   "execution_count": 0,
   "metadata": {
    "colab": {},
    "colab_type": "code",
    "id": "KfsSy0vwDXXD",
    "outputId": "1feb7362-857a-4295-8570-a4895eaa3642"
   },
   "outputs": [
    {
     "data": {
      "text/html": [
       "<div>\n",
       "<style scoped>\n",
       "    .dataframe tbody tr th:only-of-type {\n",
       "        vertical-align: middle;\n",
       "    }\n",
       "\n",
       "    .dataframe tbody tr th {\n",
       "        vertical-align: top;\n",
       "    }\n",
       "\n",
       "    .dataframe thead th {\n",
       "        text-align: right;\n",
       "    }\n",
       "</style>\n",
       "<table border=\"1\" class=\"dataframe\">\n",
       "  <thead>\n",
       "    <tr style=\"text-align: right;\">\n",
       "      <th></th>\n",
       "      <th>#nodo1</th>\n",
       "      <th>#nodo2</th>\n",
       "      <th>#peso</th>\n",
       "    </tr>\n",
       "  </thead>\n",
       "  <tbody>\n",
       "    <tr>\n",
       "      <th>0</th>\n",
       "      <td>coronavirus</td>\n",
       "      <td>covid19</td>\n",
       "      <td>1220.0</td>\n",
       "    </tr>\n",
       "    <tr>\n",
       "      <th>1</th>\n",
       "      <td>coronavirus</td>\n",
       "      <td>covid-19</td>\n",
       "      <td>783.0</td>\n",
       "    </tr>\n",
       "    <tr>\n",
       "      <th>2</th>\n",
       "      <td>coronavirus</td>\n",
       "      <td>podcast</td>\n",
       "      <td>686.0</td>\n",
       "    </tr>\n",
       "    <tr>\n",
       "      <th>3</th>\n",
       "      <td>Bass</td>\n",
       "      <td>Drum &amp;amp</td>\n",
       "      <td>593.0</td>\n",
       "    </tr>\n",
       "    <tr>\n",
       "      <th>4</th>\n",
       "      <td>coronavirus</td>\n",
       "      <td>quarantine</td>\n",
       "      <td>543.0</td>\n",
       "    </tr>\n",
       "    <tr>\n",
       "      <th>...</th>\n",
       "      <td>...</td>\n",
       "      <td>...</td>\n",
       "      <td>...</td>\n",
       "    </tr>\n",
       "    <tr>\n",
       "      <th>962583</th>\n",
       "      <td>Melodic</td>\n",
       "      <td>f2f</td>\n",
       "      <td>1.0</td>\n",
       "    </tr>\n",
       "    <tr>\n",
       "      <th>962584</th>\n",
       "      <td>Melodic</td>\n",
       "      <td>fabian</td>\n",
       "      <td>1.0</td>\n",
       "    </tr>\n",
       "    <tr>\n",
       "      <th>962585</th>\n",
       "      <td>Melodic</td>\n",
       "      <td>florianopolis</td>\n",
       "      <td>1.0</td>\n",
       "    </tr>\n",
       "    <tr>\n",
       "      <th>962586</th>\n",
       "      <td>Melodic</td>\n",
       "      <td>food</td>\n",
       "      <td>1.0</td>\n",
       "    </tr>\n",
       "    <tr>\n",
       "      <th>962587</th>\n",
       "      <td>Virus</td>\n",
       "      <td>podcasting</td>\n",
       "      <td>1.0</td>\n",
       "    </tr>\n",
       "  </tbody>\n",
       "</table>\n",
       "<p>962588 rows × 3 columns</p>\n",
       "</div>"
      ],
      "text/plain": [
       "             #nodo1         #nodo2   #peso\n",
       "0       coronavirus        covid19  1220.0\n",
       "1       coronavirus       covid-19   783.0\n",
       "2       coronavirus        podcast   686.0\n",
       "3              Bass      Drum &amp   593.0\n",
       "4       coronavirus     quarantine   543.0\n",
       "...             ...            ...     ...\n",
       "962583      Melodic            f2f     1.0\n",
       "962584      Melodic         fabian     1.0\n",
       "962585      Melodic  florianopolis     1.0\n",
       "962586      Melodic           food     1.0\n",
       "962587        Virus     podcasting     1.0\n",
       "\n",
       "[962588 rows x 3 columns]"
      ]
     },
     "execution_count": 26,
     "metadata": {
      "tags": []
     },
     "output_type": "execute_result"
    }
   ],
   "source": [
    "data = pd.read_csv('preparation.csv')\n",
    "data"
   ]
  },
  {
   "cell_type": "code",
   "execution_count": 0,
   "metadata": {
    "colab": {},
    "colab_type": "code",
    "id": "Yde0zd1cDXXE"
   },
   "outputs": [],
   "source": [
    "g = nx.read_weighted_edgelist('preparation.csv',delimiter=\",\",comments='#',encoding='utf8')"
   ]
  },
  {
   "cell_type": "code",
   "execution_count": 0,
   "metadata": {
    "colab": {},
    "colab_type": "code",
    "id": "5ObqQghbDXXJ"
   },
   "outputs": [],
   "source": [
    "g_filtered = poisson_backboning.graph_backboning(g)"
   ]
  },
  {
   "cell_type": "code",
   "execution_count": 0,
   "metadata": {
    "colab": {},
    "colab_type": "code",
    "id": "OLVh3y4hDXXM"
   },
   "outputs": [],
   "source": [
    "comps = list(nx.connected_components(g_filtered))"
   ]
  },
  {
   "cell_type": "code",
   "execution_count": 0,
   "metadata": {
    "colab": {},
    "colab_type": "code",
    "id": "bf8SiS2BDXXO"
   },
   "outputs": [],
   "source": [
    "giant_comp = nx.subgraph(g_filtered,comps[0])"
   ]
  },
  {
   "cell_type": "code",
   "execution_count": 0,
   "metadata": {
    "colab": {},
    "colab_type": "code",
    "id": "CFkjsyiyDXXQ",
    "outputId": "f8e0ef0f-25db-438a-fc62-f60b16a4a322"
   },
   "outputs": [
    {
     "data": {
      "text/plain": [
       "5481"
      ]
     },
     "execution_count": 96,
     "metadata": {
      "tags": []
     },
     "output_type": "execute_result"
    }
   ],
   "source": [
    "giant_comp.number_of_nodes()"
   ]
  },
  {
   "cell_type": "code",
   "execution_count": 0,
   "metadata": {
    "colab": {},
    "colab_type": "code",
    "id": "RckDOYMPDXXR",
    "outputId": "c04abf23-da2c-416a-936b-94fd4c32454a"
   },
   "outputs": [
    {
     "data": {
      "text/plain": [
       "51396"
      ]
     },
     "execution_count": 97,
     "metadata": {
      "tags": []
     },
     "output_type": "execute_result"
    }
   ],
   "source": [
    "giant_comp.number_of_edges()"
   ]
  },
  {
   "cell_type": "code",
   "execution_count": 0,
   "metadata": {
    "colab": {},
    "colab_type": "code",
    "id": "WzZcDpqiDXXT",
    "outputId": "4b9234ba-1a3a-402b-e8aa-3c2039ffd40a"
   },
   "outputs": [
    {
     "data": {
      "text/plain": [
       "0.0034223069209225764"
      ]
     },
     "execution_count": 98,
     "metadata": {
      "tags": []
     },
     "output_type": "execute_result"
    }
   ],
   "source": [
    "nx.density(giant_comp)"
   ]
  },
  {
   "cell_type": "code",
   "execution_count": 0,
   "metadata": {
    "colab": {},
    "colab_type": "code",
    "id": "cBZyCSHDDXXV",
    "outputId": "e3b1d499-9c74-4de9-a4b2-1cc0f7161d8f"
   },
   "outputs": [
    {
     "data": {
      "text/plain": [
       "5778"
      ]
     },
     "execution_count": 99,
     "metadata": {
      "tags": []
     },
     "output_type": "execute_result"
    }
   ],
   "source": [
    "g_filtered.number_of_nodes()"
   ]
  },
  {
   "cell_type": "code",
   "execution_count": 0,
   "metadata": {
    "colab": {},
    "colab_type": "code",
    "id": "LeL-70X0DXXW",
    "outputId": "2bacd489-f607-412b-9f1d-cc592459fda4"
   },
   "outputs": [
    {
     "data": {
      "text/plain": [
       "0.0031328204797278904"
      ]
     },
     "execution_count": 100,
     "metadata": {
      "tags": []
     },
     "output_type": "execute_result"
    }
   ],
   "source": [
    "nx.density(g_filtered)"
   ]
  }
 ],
 "metadata": {
  "colab": {
   "name": "giant_backboning_without_lower_trans.ipynb",
   "provenance": []
  },
  "kernelspec": {
   "display_name": "Python 3",
   "language": "python",
   "name": "python3"
  },
  "language_info": {
   "codemirror_mode": {
    "name": "ipython",
    "version": 3
   },
   "file_extension": ".py",
   "mimetype": "text/x-python",
   "name": "python",
   "nbconvert_exporter": "python",
   "pygments_lexer": "ipython3",
   "version": "3.7.4"
  }
 },
 "nbformat": 4,
 "nbformat_minor": 1
}
